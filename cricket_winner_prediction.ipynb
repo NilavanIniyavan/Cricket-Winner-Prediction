{
  "cells": [
    {
      "cell_type": "code",
      "execution_count": null,
      "metadata": {
        "_cell_guid": "b1076dfc-b9ad-4769-8c92-a6c4dae69d19",
        "_uuid": "8f2839f25d086af736a60e9eeb907d3b93b6e0e5",
        "id": "BYxHRzxJNWQC"
      },
      "outputs": [],
      "source": [
        "import numpy as np # default numpy\n",
        "import pandas as pd # data processing, CSV file I/O (e.g. pd.read_csv)\n",
        "import matplotlib.pyplot as plt #Used for ploting\n",
        "import seaborn as sns #used for Visualiztion\n",
        "\n",
        "import os\n",
        "import plotly.graph_objs as go\n",
        "import plotly.offline as py\n",
        "py.init_notebook_mode(connected=True)\n",
        "import plotly.tools as tls\n",
        "\n",
        "# Any results you write to the current directory are saved as output.\n",
        "\n",
        "from sklearn.model_selection import train_test_split, GridSearchCV\n",
        "from sklearn.feature_extraction.text import CountVectorizer  #could have used tf-idf feature extractor\n",
        "from sklearn.naive_bayes import MultinomialNB,GaussianNB\n",
        "from sklearn.metrics import accuracy_score,confusion_matrix,classification_report\n",
        "from sklearn.tree import DecisionTreeRegressor\n",
        "from sklearn import svm\n",
        "from sklearn.ensemble import RandomForestClassifier"
      ]
    },
    {
      "cell_type": "code",
      "source": [
        "from google.colab import drive \n",
        "drive.mount('/content/gdrive')"
      ],
      "metadata": {
        "colab": {
          "base_uri": "https://localhost:8080/"
        },
        "id": "uC1tFFxCNnuC",
        "outputId": "e48a3839-acc4-4b80-87b0-789a715c791d"
      },
      "execution_count": 4,
      "outputs": [
        {
          "output_type": "stream",
          "name": "stdout",
          "text": [
            "Mounted at /content/gdrive\n"
          ]
        }
      ]
    },
    {
      "cell_type": "markdown",
      "source": [
        "Google drive link of all the 4 datasets:https://drive.google.com/drive/folders/1NPTY3a7OjGoF0LBP8truQWsyirnqal3G?usp=sharing"
      ],
      "metadata": {
        "id": "aUbp_yJZgE6M"
      }
    },
    {
      "cell_type": "markdown",
      "metadata": {
        "_cell_guid": "1398e7e8-c9eb-4ae4-9b9d-a5e8bcd4ed14",
        "_uuid": "e923b29849409c0e1d0a76b750f7860aaed8d169",
        "id": "8v-p0F33NWQF"
      },
      "source": [
        "Intially,two data sets are taken **Trainmatches.csv** and **TrainDeliveries.csv** and loaded them into a data frame."
      ]
    },
    {
      "cell_type": "code",
      "source": [
        "# Reading the Deliveries and Matches Dataset\n",
        "TRM=pd.read_csv('gdrive/My Drive/Colab Notebooks/J-comp/Trainmatches.csv')\n",
        "#Drive link of\n",
        "#https://drive.google.com/file/d/1iLWwWpjYtAMfogfMUAbPvoyw2N2ve5Kg/view?usp=sharing\n",
        "TRM.index=TRM[\"id\"]\n",
        "TRD=pd.read_csv('gdrive/My Drive/Colab Notebooks/J-comp/TrainDeliveries.csv')\n",
        "#https://drive.google.com/file/d/15RpSY9d5R_qKVMAldmdVpDDHRXRtLsAr/view?usp=sharing"
      ],
      "metadata": {
        "id": "LD-_Vx8UOGu1"
      },
      "execution_count": 6,
      "outputs": []
    },
    {
      "cell_type": "code",
      "execution_count": null,
      "metadata": {
        "_cell_guid": "0dc48470-6cdc-4ecc-9d12-abf5357088f6",
        "_uuid": "4242580acd7e93e5609de2f48fc9103a18ffc3e0",
        "colab": {
          "base_uri": "https://localhost:8080/",
          "height": 302
        },
        "id": "EDigr2IxNWQJ",
        "outputId": "8e483dfc-ee61-475c-c79a-9f2670ee1ec5"
      },
      "outputs": [
        {
          "output_type": "execute_result",
          "data": {
            "text/plain": [
              "    id  season   city  team1  team2 toss_winner toss_decision  result  \\\n",
              "id                                                                      \n",
              "1    1    2017  City1  Team1  Team5       Team5         field  normal   \n",
              "2    2    2017  City2  Team2  Team4       Team4         field  normal   \n",
              "3    3    2017  City3  Team3  Team6       Team6         field  normal   \n",
              "4    4    2017  City4  Team4  Team8       Team8         field  normal   \n",
              "5    5    2017  City5  Team5  Team7       Team5           bat  normal   \n",
              "\n",
              "    dl_applied winner  win_by_runs  win_by_wickets player_of_match     venue  \n",
              "id                                                                            \n",
              "1            0  Team1           35               0      Player 467  Stadium1  \n",
              "2            0  Team4            0               7      Player 405  Stadium2  \n",
              "3            0  Team6            0              10       Player 85  Stadium3  \n",
              "4            0  Team8            0               6      Player 145  Stadium4  \n",
              "5            0  Team5           15               0      Player 209  Stadium5  "
            ],
            "text/html": [
              "\n",
              "  <div id=\"df-c41c4a17-fb6d-498f-af9f-b4abc6ac15b1\">\n",
              "    <div class=\"colab-df-container\">\n",
              "      <div>\n",
              "<style scoped>\n",
              "    .dataframe tbody tr th:only-of-type {\n",
              "        vertical-align: middle;\n",
              "    }\n",
              "\n",
              "    .dataframe tbody tr th {\n",
              "        vertical-align: top;\n",
              "    }\n",
              "\n",
              "    .dataframe thead th {\n",
              "        text-align: right;\n",
              "    }\n",
              "</style>\n",
              "<table border=\"1\" class=\"dataframe\">\n",
              "  <thead>\n",
              "    <tr style=\"text-align: right;\">\n",
              "      <th></th>\n",
              "      <th>id</th>\n",
              "      <th>season</th>\n",
              "      <th>city</th>\n",
              "      <th>team1</th>\n",
              "      <th>team2</th>\n",
              "      <th>toss_winner</th>\n",
              "      <th>toss_decision</th>\n",
              "      <th>result</th>\n",
              "      <th>dl_applied</th>\n",
              "      <th>winner</th>\n",
              "      <th>win_by_runs</th>\n",
              "      <th>win_by_wickets</th>\n",
              "      <th>player_of_match</th>\n",
              "      <th>venue</th>\n",
              "    </tr>\n",
              "    <tr>\n",
              "      <th>id</th>\n",
              "      <th></th>\n",
              "      <th></th>\n",
              "      <th></th>\n",
              "      <th></th>\n",
              "      <th></th>\n",
              "      <th></th>\n",
              "      <th></th>\n",
              "      <th></th>\n",
              "      <th></th>\n",
              "      <th></th>\n",
              "      <th></th>\n",
              "      <th></th>\n",
              "      <th></th>\n",
              "      <th></th>\n",
              "    </tr>\n",
              "  </thead>\n",
              "  <tbody>\n",
              "    <tr>\n",
              "      <th>1</th>\n",
              "      <td>1</td>\n",
              "      <td>2017</td>\n",
              "      <td>City1</td>\n",
              "      <td>Team1</td>\n",
              "      <td>Team5</td>\n",
              "      <td>Team5</td>\n",
              "      <td>field</td>\n",
              "      <td>normal</td>\n",
              "      <td>0</td>\n",
              "      <td>Team1</td>\n",
              "      <td>35</td>\n",
              "      <td>0</td>\n",
              "      <td>Player 467</td>\n",
              "      <td>Stadium1</td>\n",
              "    </tr>\n",
              "    <tr>\n",
              "      <th>2</th>\n",
              "      <td>2</td>\n",
              "      <td>2017</td>\n",
              "      <td>City2</td>\n",
              "      <td>Team2</td>\n",
              "      <td>Team4</td>\n",
              "      <td>Team4</td>\n",
              "      <td>field</td>\n",
              "      <td>normal</td>\n",
              "      <td>0</td>\n",
              "      <td>Team4</td>\n",
              "      <td>0</td>\n",
              "      <td>7</td>\n",
              "      <td>Player 405</td>\n",
              "      <td>Stadium2</td>\n",
              "    </tr>\n",
              "    <tr>\n",
              "      <th>3</th>\n",
              "      <td>3</td>\n",
              "      <td>2017</td>\n",
              "      <td>City3</td>\n",
              "      <td>Team3</td>\n",
              "      <td>Team6</td>\n",
              "      <td>Team6</td>\n",
              "      <td>field</td>\n",
              "      <td>normal</td>\n",
              "      <td>0</td>\n",
              "      <td>Team6</td>\n",
              "      <td>0</td>\n",
              "      <td>10</td>\n",
              "      <td>Player 85</td>\n",
              "      <td>Stadium3</td>\n",
              "    </tr>\n",
              "    <tr>\n",
              "      <th>4</th>\n",
              "      <td>4</td>\n",
              "      <td>2017</td>\n",
              "      <td>City4</td>\n",
              "      <td>Team4</td>\n",
              "      <td>Team8</td>\n",
              "      <td>Team8</td>\n",
              "      <td>field</td>\n",
              "      <td>normal</td>\n",
              "      <td>0</td>\n",
              "      <td>Team8</td>\n",
              "      <td>0</td>\n",
              "      <td>6</td>\n",
              "      <td>Player 145</td>\n",
              "      <td>Stadium4</td>\n",
              "    </tr>\n",
              "    <tr>\n",
              "      <th>5</th>\n",
              "      <td>5</td>\n",
              "      <td>2017</td>\n",
              "      <td>City5</td>\n",
              "      <td>Team5</td>\n",
              "      <td>Team7</td>\n",
              "      <td>Team5</td>\n",
              "      <td>bat</td>\n",
              "      <td>normal</td>\n",
              "      <td>0</td>\n",
              "      <td>Team5</td>\n",
              "      <td>15</td>\n",
              "      <td>0</td>\n",
              "      <td>Player 209</td>\n",
              "      <td>Stadium5</td>\n",
              "    </tr>\n",
              "  </tbody>\n",
              "</table>\n",
              "</div>\n",
              "      <button class=\"colab-df-convert\" onclick=\"convertToInteractive('df-c41c4a17-fb6d-498f-af9f-b4abc6ac15b1')\"\n",
              "              title=\"Convert this dataframe to an interactive table.\"\n",
              "              style=\"display:none;\">\n",
              "        \n",
              "  <svg xmlns=\"http://www.w3.org/2000/svg\" height=\"24px\"viewBox=\"0 0 24 24\"\n",
              "       width=\"24px\">\n",
              "    <path d=\"M0 0h24v24H0V0z\" fill=\"none\"/>\n",
              "    <path d=\"M18.56 5.44l.94 2.06.94-2.06 2.06-.94-2.06-.94-.94-2.06-.94 2.06-2.06.94zm-11 1L8.5 8.5l.94-2.06 2.06-.94-2.06-.94L8.5 2.5l-.94 2.06-2.06.94zm10 10l.94 2.06.94-2.06 2.06-.94-2.06-.94-.94-2.06-.94 2.06-2.06.94z\"/><path d=\"M17.41 7.96l-1.37-1.37c-.4-.4-.92-.59-1.43-.59-.52 0-1.04.2-1.43.59L10.3 9.45l-7.72 7.72c-.78.78-.78 2.05 0 2.83L4 21.41c.39.39.9.59 1.41.59.51 0 1.02-.2 1.41-.59l7.78-7.78 2.81-2.81c.8-.78.8-2.07 0-2.86zM5.41 20L4 18.59l7.72-7.72 1.47 1.35L5.41 20z\"/>\n",
              "  </svg>\n",
              "      </button>\n",
              "      \n",
              "  <style>\n",
              "    .colab-df-container {\n",
              "      display:flex;\n",
              "      flex-wrap:wrap;\n",
              "      gap: 12px;\n",
              "    }\n",
              "\n",
              "    .colab-df-convert {\n",
              "      background-color: #E8F0FE;\n",
              "      border: none;\n",
              "      border-radius: 50%;\n",
              "      cursor: pointer;\n",
              "      display: none;\n",
              "      fill: #1967D2;\n",
              "      height: 32px;\n",
              "      padding: 0 0 0 0;\n",
              "      width: 32px;\n",
              "    }\n",
              "\n",
              "    .colab-df-convert:hover {\n",
              "      background-color: #E2EBFA;\n",
              "      box-shadow: 0px 1px 2px rgba(60, 64, 67, 0.3), 0px 1px 3px 1px rgba(60, 64, 67, 0.15);\n",
              "      fill: #174EA6;\n",
              "    }\n",
              "\n",
              "    [theme=dark] .colab-df-convert {\n",
              "      background-color: #3B4455;\n",
              "      fill: #D2E3FC;\n",
              "    }\n",
              "\n",
              "    [theme=dark] .colab-df-convert:hover {\n",
              "      background-color: #434B5C;\n",
              "      box-shadow: 0px 1px 3px 1px rgba(0, 0, 0, 0.15);\n",
              "      filter: drop-shadow(0px 1px 2px rgba(0, 0, 0, 0.3));\n",
              "      fill: #FFFFFF;\n",
              "    }\n",
              "  </style>\n",
              "\n",
              "      <script>\n",
              "        const buttonEl =\n",
              "          document.querySelector('#df-c41c4a17-fb6d-498f-af9f-b4abc6ac15b1 button.colab-df-convert');\n",
              "        buttonEl.style.display =\n",
              "          google.colab.kernel.accessAllowed ? 'block' : 'none';\n",
              "\n",
              "        async function convertToInteractive(key) {\n",
              "          const element = document.querySelector('#df-c41c4a17-fb6d-498f-af9f-b4abc6ac15b1');\n",
              "          const dataTable =\n",
              "            await google.colab.kernel.invokeFunction('convertToInteractive',\n",
              "                                                     [key], {});\n",
              "          if (!dataTable) return;\n",
              "\n",
              "          const docLinkHtml = 'Like what you see? Visit the ' +\n",
              "            '<a target=\"_blank\" href=https://colab.research.google.com/notebooks/data_table.ipynb>data table notebook</a>'\n",
              "            + ' to learn more about interactive tables.';\n",
              "          element.innerHTML = '';\n",
              "          dataTable['output_type'] = 'display_data';\n",
              "          await google.colab.output.renderOutput(dataTable, element);\n",
              "          const docLink = document.createElement('div');\n",
              "          docLink.innerHTML = docLinkHtml;\n",
              "          element.appendChild(docLink);\n",
              "        }\n",
              "      </script>\n",
              "    </div>\n",
              "  </div>\n",
              "  "
            ]
          },
          "metadata": {},
          "execution_count": 4
        }
      ],
      "source": [
        "TRM.head()"
      ]
    },
    {
      "cell_type": "markdown",
      "metadata": {
        "_cell_guid": "71ac2a8d-3080-41b9-92ef-139301a784ea",
        "_uuid": "c8ca55c9997670b974d39b1645cf6ef32f5e5127",
        "collapsed": true,
        "id": "o_4reB9TNWQK"
      },
      "source": [
        "Plot a histogram to find number of matches that each team won in the IPL Series  and also find which teams stood out."
      ]
    },
    {
      "cell_type": "code",
      "execution_count": 7,
      "metadata": {
        "_cell_guid": "4f166a42-994c-4c73-8d24-055dc4d11b90",
        "_uuid": "0fa5c065829927510d846259aacff1eedf62a888",
        "scrolled": true,
        "colab": {
          "base_uri": "https://localhost:8080/",
          "height": 542
        },
        "id": "eFzJOSJjNWQK",
        "outputId": "3633e34e-be06-4e1b-a7bb-43f6ac33dbf4"
      },
      "outputs": [
        {
          "output_type": "display_data",
          "data": {
            "application/vnd.plotly.v1+json": {
              "data": [
                {
                  "name": "Total Matches",
                  "x": [
                    "Team2",
                    "Team1",
                    "Team5",
                    "Team7",
                    "Team6",
                    "Team8",
                    "Team10",
                    "Team9",
                    "Team4",
                    "Team3",
                    "Team11"
                  ],
                  "y": [
                    122,
                    117,
                    117,
                    116,
                    115,
                    113,
                    109,
                    101,
                    62,
                    14,
                    14
                  ],
                  "type": "bar"
                },
                {
                  "name": "Matches Won",
                  "x": [
                    "Team2",
                    "Team1",
                    "Team5",
                    "Team7",
                    "Team6",
                    "Team8",
                    "Team10",
                    "Team9",
                    "Team4",
                    "Team3",
                    "Team11"
                  ],
                  "y": [
                    71,
                    67,
                    59,
                    57,
                    56,
                    56,
                    51,
                    50,
                    22,
                    6,
                    4
                  ],
                  "type": "bar"
                }
              ],
              "layout": {
                "barmode": "stack",
                "template": {
                  "data": {
                    "barpolar": [
                      {
                        "marker": {
                          "line": {
                            "color": "#E5ECF6",
                            "width": 0.5
                          },
                          "pattern": {
                            "fillmode": "overlay",
                            "size": 10,
                            "solidity": 0.2
                          }
                        },
                        "type": "barpolar"
                      }
                    ],
                    "bar": [
                      {
                        "error_x": {
                          "color": "#2a3f5f"
                        },
                        "error_y": {
                          "color": "#2a3f5f"
                        },
                        "marker": {
                          "line": {
                            "color": "#E5ECF6",
                            "width": 0.5
                          },
                          "pattern": {
                            "fillmode": "overlay",
                            "size": 10,
                            "solidity": 0.2
                          }
                        },
                        "type": "bar"
                      }
                    ],
                    "carpet": [
                      {
                        "aaxis": {
                          "endlinecolor": "#2a3f5f",
                          "gridcolor": "white",
                          "linecolor": "white",
                          "minorgridcolor": "white",
                          "startlinecolor": "#2a3f5f"
                        },
                        "baxis": {
                          "endlinecolor": "#2a3f5f",
                          "gridcolor": "white",
                          "linecolor": "white",
                          "minorgridcolor": "white",
                          "startlinecolor": "#2a3f5f"
                        },
                        "type": "carpet"
                      }
                    ],
                    "choropleth": [
                      {
                        "colorbar": {
                          "outlinewidth": 0,
                          "ticks": ""
                        },
                        "type": "choropleth"
                      }
                    ],
                    "contourcarpet": [
                      {
                        "colorbar": {
                          "outlinewidth": 0,
                          "ticks": ""
                        },
                        "type": "contourcarpet"
                      }
                    ],
                    "contour": [
                      {
                        "colorbar": {
                          "outlinewidth": 0,
                          "ticks": ""
                        },
                        "colorscale": [
                          [
                            0,
                            "#0d0887"
                          ],
                          [
                            0.1111111111111111,
                            "#46039f"
                          ],
                          [
                            0.2222222222222222,
                            "#7201a8"
                          ],
                          [
                            0.3333333333333333,
                            "#9c179e"
                          ],
                          [
                            0.4444444444444444,
                            "#bd3786"
                          ],
                          [
                            0.5555555555555556,
                            "#d8576b"
                          ],
                          [
                            0.6666666666666666,
                            "#ed7953"
                          ],
                          [
                            0.7777777777777778,
                            "#fb9f3a"
                          ],
                          [
                            0.8888888888888888,
                            "#fdca26"
                          ],
                          [
                            1,
                            "#f0f921"
                          ]
                        ],
                        "type": "contour"
                      }
                    ],
                    "heatmapgl": [
                      {
                        "colorbar": {
                          "outlinewidth": 0,
                          "ticks": ""
                        },
                        "colorscale": [
                          [
                            0,
                            "#0d0887"
                          ],
                          [
                            0.1111111111111111,
                            "#46039f"
                          ],
                          [
                            0.2222222222222222,
                            "#7201a8"
                          ],
                          [
                            0.3333333333333333,
                            "#9c179e"
                          ],
                          [
                            0.4444444444444444,
                            "#bd3786"
                          ],
                          [
                            0.5555555555555556,
                            "#d8576b"
                          ],
                          [
                            0.6666666666666666,
                            "#ed7953"
                          ],
                          [
                            0.7777777777777778,
                            "#fb9f3a"
                          ],
                          [
                            0.8888888888888888,
                            "#fdca26"
                          ],
                          [
                            1,
                            "#f0f921"
                          ]
                        ],
                        "type": "heatmapgl"
                      }
                    ],
                    "heatmap": [
                      {
                        "colorbar": {
                          "outlinewidth": 0,
                          "ticks": ""
                        },
                        "colorscale": [
                          [
                            0,
                            "#0d0887"
                          ],
                          [
                            0.1111111111111111,
                            "#46039f"
                          ],
                          [
                            0.2222222222222222,
                            "#7201a8"
                          ],
                          [
                            0.3333333333333333,
                            "#9c179e"
                          ],
                          [
                            0.4444444444444444,
                            "#bd3786"
                          ],
                          [
                            0.5555555555555556,
                            "#d8576b"
                          ],
                          [
                            0.6666666666666666,
                            "#ed7953"
                          ],
                          [
                            0.7777777777777778,
                            "#fb9f3a"
                          ],
                          [
                            0.8888888888888888,
                            "#fdca26"
                          ],
                          [
                            1,
                            "#f0f921"
                          ]
                        ],
                        "type": "heatmap"
                      }
                    ],
                    "histogram2dcontour": [
                      {
                        "colorbar": {
                          "outlinewidth": 0,
                          "ticks": ""
                        },
                        "colorscale": [
                          [
                            0,
                            "#0d0887"
                          ],
                          [
                            0.1111111111111111,
                            "#46039f"
                          ],
                          [
                            0.2222222222222222,
                            "#7201a8"
                          ],
                          [
                            0.3333333333333333,
                            "#9c179e"
                          ],
                          [
                            0.4444444444444444,
                            "#bd3786"
                          ],
                          [
                            0.5555555555555556,
                            "#d8576b"
                          ],
                          [
                            0.6666666666666666,
                            "#ed7953"
                          ],
                          [
                            0.7777777777777778,
                            "#fb9f3a"
                          ],
                          [
                            0.8888888888888888,
                            "#fdca26"
                          ],
                          [
                            1,
                            "#f0f921"
                          ]
                        ],
                        "type": "histogram2dcontour"
                      }
                    ],
                    "histogram2d": [
                      {
                        "colorbar": {
                          "outlinewidth": 0,
                          "ticks": ""
                        },
                        "colorscale": [
                          [
                            0,
                            "#0d0887"
                          ],
                          [
                            0.1111111111111111,
                            "#46039f"
                          ],
                          [
                            0.2222222222222222,
                            "#7201a8"
                          ],
                          [
                            0.3333333333333333,
                            "#9c179e"
                          ],
                          [
                            0.4444444444444444,
                            "#bd3786"
                          ],
                          [
                            0.5555555555555556,
                            "#d8576b"
                          ],
                          [
                            0.6666666666666666,
                            "#ed7953"
                          ],
                          [
                            0.7777777777777778,
                            "#fb9f3a"
                          ],
                          [
                            0.8888888888888888,
                            "#fdca26"
                          ],
                          [
                            1,
                            "#f0f921"
                          ]
                        ],
                        "type": "histogram2d"
                      }
                    ],
                    "histogram": [
                      {
                        "marker": {
                          "pattern": {
                            "fillmode": "overlay",
                            "size": 10,
                            "solidity": 0.2
                          }
                        },
                        "type": "histogram"
                      }
                    ],
                    "mesh3d": [
                      {
                        "colorbar": {
                          "outlinewidth": 0,
                          "ticks": ""
                        },
                        "type": "mesh3d"
                      }
                    ],
                    "parcoords": [
                      {
                        "line": {
                          "colorbar": {
                            "outlinewidth": 0,
                            "ticks": ""
                          }
                        },
                        "type": "parcoords"
                      }
                    ],
                    "pie": [
                      {
                        "automargin": true,
                        "type": "pie"
                      }
                    ],
                    "scatter3d": [
                      {
                        "line": {
                          "colorbar": {
                            "outlinewidth": 0,
                            "ticks": ""
                          }
                        },
                        "marker": {
                          "colorbar": {
                            "outlinewidth": 0,
                            "ticks": ""
                          }
                        },
                        "type": "scatter3d"
                      }
                    ],
                    "scattercarpet": [
                      {
                        "marker": {
                          "colorbar": {
                            "outlinewidth": 0,
                            "ticks": ""
                          }
                        },
                        "type": "scattercarpet"
                      }
                    ],
                    "scattergeo": [
                      {
                        "marker": {
                          "colorbar": {
                            "outlinewidth": 0,
                            "ticks": ""
                          }
                        },
                        "type": "scattergeo"
                      }
                    ],
                    "scattergl": [
                      {
                        "marker": {
                          "colorbar": {
                            "outlinewidth": 0,
                            "ticks": ""
                          }
                        },
                        "type": "scattergl"
                      }
                    ],
                    "scattermapbox": [
                      {
                        "marker": {
                          "colorbar": {
                            "outlinewidth": 0,
                            "ticks": ""
                          }
                        },
                        "type": "scattermapbox"
                      }
                    ],
                    "scatterpolargl": [
                      {
                        "marker": {
                          "colorbar": {
                            "outlinewidth": 0,
                            "ticks": ""
                          }
                        },
                        "type": "scatterpolargl"
                      }
                    ],
                    "scatterpolar": [
                      {
                        "marker": {
                          "colorbar": {
                            "outlinewidth": 0,
                            "ticks": ""
                          }
                        },
                        "type": "scatterpolar"
                      }
                    ],
                    "scatter": [
                      {
                        "marker": {
                          "colorbar": {
                            "outlinewidth": 0,
                            "ticks": ""
                          }
                        },
                        "type": "scatter"
                      }
                    ],
                    "scatterternary": [
                      {
                        "marker": {
                          "colorbar": {
                            "outlinewidth": 0,
                            "ticks": ""
                          }
                        },
                        "type": "scatterternary"
                      }
                    ],
                    "surface": [
                      {
                        "colorbar": {
                          "outlinewidth": 0,
                          "ticks": ""
                        },
                        "colorscale": [
                          [
                            0,
                            "#0d0887"
                          ],
                          [
                            0.1111111111111111,
                            "#46039f"
                          ],
                          [
                            0.2222222222222222,
                            "#7201a8"
                          ],
                          [
                            0.3333333333333333,
                            "#9c179e"
                          ],
                          [
                            0.4444444444444444,
                            "#bd3786"
                          ],
                          [
                            0.5555555555555556,
                            "#d8576b"
                          ],
                          [
                            0.6666666666666666,
                            "#ed7953"
                          ],
                          [
                            0.7777777777777778,
                            "#fb9f3a"
                          ],
                          [
                            0.8888888888888888,
                            "#fdca26"
                          ],
                          [
                            1,
                            "#f0f921"
                          ]
                        ],
                        "type": "surface"
                      }
                    ],
                    "table": [
                      {
                        "cells": {
                          "fill": {
                            "color": "#EBF0F8"
                          },
                          "line": {
                            "color": "white"
                          }
                        },
                        "header": {
                          "fill": {
                            "color": "#C8D4E3"
                          },
                          "line": {
                            "color": "white"
                          }
                        },
                        "type": "table"
                      }
                    ]
                  },
                  "layout": {
                    "annotationdefaults": {
                      "arrowcolor": "#2a3f5f",
                      "arrowhead": 0,
                      "arrowwidth": 1
                    },
                    "autotypenumbers": "strict",
                    "coloraxis": {
                      "colorbar": {
                        "outlinewidth": 0,
                        "ticks": ""
                      }
                    },
                    "colorscale": {
                      "diverging": [
                        [
                          0,
                          "#8e0152"
                        ],
                        [
                          0.1,
                          "#c51b7d"
                        ],
                        [
                          0.2,
                          "#de77ae"
                        ],
                        [
                          0.3,
                          "#f1b6da"
                        ],
                        [
                          0.4,
                          "#fde0ef"
                        ],
                        [
                          0.5,
                          "#f7f7f7"
                        ],
                        [
                          0.6,
                          "#e6f5d0"
                        ],
                        [
                          0.7,
                          "#b8e186"
                        ],
                        [
                          0.8,
                          "#7fbc41"
                        ],
                        [
                          0.9,
                          "#4d9221"
                        ],
                        [
                          1,
                          "#276419"
                        ]
                      ],
                      "sequential": [
                        [
                          0,
                          "#0d0887"
                        ],
                        [
                          0.1111111111111111,
                          "#46039f"
                        ],
                        [
                          0.2222222222222222,
                          "#7201a8"
                        ],
                        [
                          0.3333333333333333,
                          "#9c179e"
                        ],
                        [
                          0.4444444444444444,
                          "#bd3786"
                        ],
                        [
                          0.5555555555555556,
                          "#d8576b"
                        ],
                        [
                          0.6666666666666666,
                          "#ed7953"
                        ],
                        [
                          0.7777777777777778,
                          "#fb9f3a"
                        ],
                        [
                          0.8888888888888888,
                          "#fdca26"
                        ],
                        [
                          1,
                          "#f0f921"
                        ]
                      ],
                      "sequentialminus": [
                        [
                          0,
                          "#0d0887"
                        ],
                        [
                          0.1111111111111111,
                          "#46039f"
                        ],
                        [
                          0.2222222222222222,
                          "#7201a8"
                        ],
                        [
                          0.3333333333333333,
                          "#9c179e"
                        ],
                        [
                          0.4444444444444444,
                          "#bd3786"
                        ],
                        [
                          0.5555555555555556,
                          "#d8576b"
                        ],
                        [
                          0.6666666666666666,
                          "#ed7953"
                        ],
                        [
                          0.7777777777777778,
                          "#fb9f3a"
                        ],
                        [
                          0.8888888888888888,
                          "#fdca26"
                        ],
                        [
                          1,
                          "#f0f921"
                        ]
                      ]
                    },
                    "colorway": [
                      "#636efa",
                      "#EF553B",
                      "#00cc96",
                      "#ab63fa",
                      "#FFA15A",
                      "#19d3f3",
                      "#FF6692",
                      "#B6E880",
                      "#FF97FF",
                      "#FECB52"
                    ],
                    "font": {
                      "color": "#2a3f5f"
                    },
                    "geo": {
                      "bgcolor": "white",
                      "lakecolor": "white",
                      "landcolor": "#E5ECF6",
                      "showlakes": true,
                      "showland": true,
                      "subunitcolor": "white"
                    },
                    "hoverlabel": {
                      "align": "left"
                    },
                    "hovermode": "closest",
                    "mapbox": {
                      "style": "light"
                    },
                    "paper_bgcolor": "white",
                    "plot_bgcolor": "#E5ECF6",
                    "polar": {
                      "angularaxis": {
                        "gridcolor": "white",
                        "linecolor": "white",
                        "ticks": ""
                      },
                      "bgcolor": "#E5ECF6",
                      "radialaxis": {
                        "gridcolor": "white",
                        "linecolor": "white",
                        "ticks": ""
                      }
                    },
                    "scene": {
                      "xaxis": {
                        "backgroundcolor": "#E5ECF6",
                        "gridcolor": "white",
                        "gridwidth": 2,
                        "linecolor": "white",
                        "showbackground": true,
                        "ticks": "",
                        "zerolinecolor": "white"
                      },
                      "yaxis": {
                        "backgroundcolor": "#E5ECF6",
                        "gridcolor": "white",
                        "gridwidth": 2,
                        "linecolor": "white",
                        "showbackground": true,
                        "ticks": "",
                        "zerolinecolor": "white"
                      },
                      "zaxis": {
                        "backgroundcolor": "#E5ECF6",
                        "gridcolor": "white",
                        "gridwidth": 2,
                        "linecolor": "white",
                        "showbackground": true,
                        "ticks": "",
                        "zerolinecolor": "white"
                      }
                    },
                    "shapedefaults": {
                      "line": {
                        "color": "#2a3f5f"
                      }
                    },
                    "ternary": {
                      "aaxis": {
                        "gridcolor": "white",
                        "linecolor": "white",
                        "ticks": ""
                      },
                      "baxis": {
                        "gridcolor": "white",
                        "linecolor": "white",
                        "ticks": ""
                      },
                      "bgcolor": "#E5ECF6",
                      "caxis": {
                        "gridcolor": "white",
                        "linecolor": "white",
                        "ticks": ""
                      }
                    },
                    "title": {
                      "x": 0.05
                    },
                    "xaxis": {
                      "automargin": true,
                      "gridcolor": "white",
                      "linecolor": "white",
                      "ticks": "",
                      "title": {
                        "standoff": 15
                      },
                      "zerolinecolor": "white",
                      "zerolinewidth": 2
                    },
                    "yaxis": {
                      "automargin": true,
                      "gridcolor": "white",
                      "linecolor": "white",
                      "ticks": "",
                      "title": {
                        "standoff": 15
                      },
                      "zerolinecolor": "white",
                      "zerolinewidth": 2
                    }
                  }
                }
              },
              "config": {
                "showLink": false,
                "linkText": "Export to plot.ly",
                "plotlyServerURL": "https://plot.ly"
              }
            },
            "text/html": [
              "<div>                            <div id=\"396bd0b3-8101-4a71-b1f9-90675f6d75c0\" class=\"plotly-graph-div\" style=\"height:525px; width:100%;\"></div>            <script type=\"text/javascript\">                require([\"plotly\"], function(Plotly) {                    window.PLOTLYENV=window.PLOTLYENV || {};                                    if (document.getElementById(\"396bd0b3-8101-4a71-b1f9-90675f6d75c0\")) {                    Plotly.newPlot(                        \"396bd0b3-8101-4a71-b1f9-90675f6d75c0\",                        [{\"name\":\"Total Matches\",\"x\":[\"Team2\",\"Team1\",\"Team5\",\"Team7\",\"Team6\",\"Team8\",\"Team10\",\"Team9\",\"Team4\",\"Team3\",\"Team11\"],\"y\":[122,117,117,116,115,113,109,101,62,14,14],\"type\":\"bar\"},{\"name\":\"Matches Won\",\"x\":[\"Team2\",\"Team1\",\"Team5\",\"Team7\",\"Team6\",\"Team8\",\"Team10\",\"Team9\",\"Team4\",\"Team3\",\"Team11\"],\"y\":[71,67,59,57,56,56,51,50,22,6,4],\"type\":\"bar\"}],                        {\"barmode\":\"stack\",\"template\":{\"data\":{\"barpolar\":[{\"marker\":{\"line\":{\"color\":\"#E5ECF6\",\"width\":0.5},\"pattern\":{\"fillmode\":\"overlay\",\"size\":10,\"solidity\":0.2}},\"type\":\"barpolar\"}],\"bar\":[{\"error_x\":{\"color\":\"#2a3f5f\"},\"error_y\":{\"color\":\"#2a3f5f\"},\"marker\":{\"line\":{\"color\":\"#E5ECF6\",\"width\":0.5},\"pattern\":{\"fillmode\":\"overlay\",\"size\":10,\"solidity\":0.2}},\"type\":\"bar\"}],\"carpet\":[{\"aaxis\":{\"endlinecolor\":\"#2a3f5f\",\"gridcolor\":\"white\",\"linecolor\":\"white\",\"minorgridcolor\":\"white\",\"startlinecolor\":\"#2a3f5f\"},\"baxis\":{\"endlinecolor\":\"#2a3f5f\",\"gridcolor\":\"white\",\"linecolor\":\"white\",\"minorgridcolor\":\"white\",\"startlinecolor\":\"#2a3f5f\"},\"type\":\"carpet\"}],\"choropleth\":[{\"colorbar\":{\"outlinewidth\":0,\"ticks\":\"\"},\"type\":\"choropleth\"}],\"contourcarpet\":[{\"colorbar\":{\"outlinewidth\":0,\"ticks\":\"\"},\"type\":\"contourcarpet\"}],\"contour\":[{\"colorbar\":{\"outlinewidth\":0,\"ticks\":\"\"},\"colorscale\":[[0.0,\"#0d0887\"],[0.1111111111111111,\"#46039f\"],[0.2222222222222222,\"#7201a8\"],[0.3333333333333333,\"#9c179e\"],[0.4444444444444444,\"#bd3786\"],[0.5555555555555556,\"#d8576b\"],[0.6666666666666666,\"#ed7953\"],[0.7777777777777778,\"#fb9f3a\"],[0.8888888888888888,\"#fdca26\"],[1.0,\"#f0f921\"]],\"type\":\"contour\"}],\"heatmapgl\":[{\"colorbar\":{\"outlinewidth\":0,\"ticks\":\"\"},\"colorscale\":[[0.0,\"#0d0887\"],[0.1111111111111111,\"#46039f\"],[0.2222222222222222,\"#7201a8\"],[0.3333333333333333,\"#9c179e\"],[0.4444444444444444,\"#bd3786\"],[0.5555555555555556,\"#d8576b\"],[0.6666666666666666,\"#ed7953\"],[0.7777777777777778,\"#fb9f3a\"],[0.8888888888888888,\"#fdca26\"],[1.0,\"#f0f921\"]],\"type\":\"heatmapgl\"}],\"heatmap\":[{\"colorbar\":{\"outlinewidth\":0,\"ticks\":\"\"},\"colorscale\":[[0.0,\"#0d0887\"],[0.1111111111111111,\"#46039f\"],[0.2222222222222222,\"#7201a8\"],[0.3333333333333333,\"#9c179e\"],[0.4444444444444444,\"#bd3786\"],[0.5555555555555556,\"#d8576b\"],[0.6666666666666666,\"#ed7953\"],[0.7777777777777778,\"#fb9f3a\"],[0.8888888888888888,\"#fdca26\"],[1.0,\"#f0f921\"]],\"type\":\"heatmap\"}],\"histogram2dcontour\":[{\"colorbar\":{\"outlinewidth\":0,\"ticks\":\"\"},\"colorscale\":[[0.0,\"#0d0887\"],[0.1111111111111111,\"#46039f\"],[0.2222222222222222,\"#7201a8\"],[0.3333333333333333,\"#9c179e\"],[0.4444444444444444,\"#bd3786\"],[0.5555555555555556,\"#d8576b\"],[0.6666666666666666,\"#ed7953\"],[0.7777777777777778,\"#fb9f3a\"],[0.8888888888888888,\"#fdca26\"],[1.0,\"#f0f921\"]],\"type\":\"histogram2dcontour\"}],\"histogram2d\":[{\"colorbar\":{\"outlinewidth\":0,\"ticks\":\"\"},\"colorscale\":[[0.0,\"#0d0887\"],[0.1111111111111111,\"#46039f\"],[0.2222222222222222,\"#7201a8\"],[0.3333333333333333,\"#9c179e\"],[0.4444444444444444,\"#bd3786\"],[0.5555555555555556,\"#d8576b\"],[0.6666666666666666,\"#ed7953\"],[0.7777777777777778,\"#fb9f3a\"],[0.8888888888888888,\"#fdca26\"],[1.0,\"#f0f921\"]],\"type\":\"histogram2d\"}],\"histogram\":[{\"marker\":{\"pattern\":{\"fillmode\":\"overlay\",\"size\":10,\"solidity\":0.2}},\"type\":\"histogram\"}],\"mesh3d\":[{\"colorbar\":{\"outlinewidth\":0,\"ticks\":\"\"},\"type\":\"mesh3d\"}],\"parcoords\":[{\"line\":{\"colorbar\":{\"outlinewidth\":0,\"ticks\":\"\"}},\"type\":\"parcoords\"}],\"pie\":[{\"automargin\":true,\"type\":\"pie\"}],\"scatter3d\":[{\"line\":{\"colorbar\":{\"outlinewidth\":0,\"ticks\":\"\"}},\"marker\":{\"colorbar\":{\"outlinewidth\":0,\"ticks\":\"\"}},\"type\":\"scatter3d\"}],\"scattercarpet\":[{\"marker\":{\"colorbar\":{\"outlinewidth\":0,\"ticks\":\"\"}},\"type\":\"scattercarpet\"}],\"scattergeo\":[{\"marker\":{\"colorbar\":{\"outlinewidth\":0,\"ticks\":\"\"}},\"type\":\"scattergeo\"}],\"scattergl\":[{\"marker\":{\"colorbar\":{\"outlinewidth\":0,\"ticks\":\"\"}},\"type\":\"scattergl\"}],\"scattermapbox\":[{\"marker\":{\"colorbar\":{\"outlinewidth\":0,\"ticks\":\"\"}},\"type\":\"scattermapbox\"}],\"scatterpolargl\":[{\"marker\":{\"colorbar\":{\"outlinewidth\":0,\"ticks\":\"\"}},\"type\":\"scatterpolargl\"}],\"scatterpolar\":[{\"marker\":{\"colorbar\":{\"outlinewidth\":0,\"ticks\":\"\"}},\"type\":\"scatterpolar\"}],\"scatter\":[{\"marker\":{\"colorbar\":{\"outlinewidth\":0,\"ticks\":\"\"}},\"type\":\"scatter\"}],\"scatterternary\":[{\"marker\":{\"colorbar\":{\"outlinewidth\":0,\"ticks\":\"\"}},\"type\":\"scatterternary\"}],\"surface\":[{\"colorbar\":{\"outlinewidth\":0,\"ticks\":\"\"},\"colorscale\":[[0.0,\"#0d0887\"],[0.1111111111111111,\"#46039f\"],[0.2222222222222222,\"#7201a8\"],[0.3333333333333333,\"#9c179e\"],[0.4444444444444444,\"#bd3786\"],[0.5555555555555556,\"#d8576b\"],[0.6666666666666666,\"#ed7953\"],[0.7777777777777778,\"#fb9f3a\"],[0.8888888888888888,\"#fdca26\"],[1.0,\"#f0f921\"]],\"type\":\"surface\"}],\"table\":[{\"cells\":{\"fill\":{\"color\":\"#EBF0F8\"},\"line\":{\"color\":\"white\"}},\"header\":{\"fill\":{\"color\":\"#C8D4E3\"},\"line\":{\"color\":\"white\"}},\"type\":\"table\"}]},\"layout\":{\"annotationdefaults\":{\"arrowcolor\":\"#2a3f5f\",\"arrowhead\":0,\"arrowwidth\":1},\"autotypenumbers\":\"strict\",\"coloraxis\":{\"colorbar\":{\"outlinewidth\":0,\"ticks\":\"\"}},\"colorscale\":{\"diverging\":[[0,\"#8e0152\"],[0.1,\"#c51b7d\"],[0.2,\"#de77ae\"],[0.3,\"#f1b6da\"],[0.4,\"#fde0ef\"],[0.5,\"#f7f7f7\"],[0.6,\"#e6f5d0\"],[0.7,\"#b8e186\"],[0.8,\"#7fbc41\"],[0.9,\"#4d9221\"],[1,\"#276419\"]],\"sequential\":[[0.0,\"#0d0887\"],[0.1111111111111111,\"#46039f\"],[0.2222222222222222,\"#7201a8\"],[0.3333333333333333,\"#9c179e\"],[0.4444444444444444,\"#bd3786\"],[0.5555555555555556,\"#d8576b\"],[0.6666666666666666,\"#ed7953\"],[0.7777777777777778,\"#fb9f3a\"],[0.8888888888888888,\"#fdca26\"],[1.0,\"#f0f921\"]],\"sequentialminus\":[[0.0,\"#0d0887\"],[0.1111111111111111,\"#46039f\"],[0.2222222222222222,\"#7201a8\"],[0.3333333333333333,\"#9c179e\"],[0.4444444444444444,\"#bd3786\"],[0.5555555555555556,\"#d8576b\"],[0.6666666666666666,\"#ed7953\"],[0.7777777777777778,\"#fb9f3a\"],[0.8888888888888888,\"#fdca26\"],[1.0,\"#f0f921\"]]},\"colorway\":[\"#636efa\",\"#EF553B\",\"#00cc96\",\"#ab63fa\",\"#FFA15A\",\"#19d3f3\",\"#FF6692\",\"#B6E880\",\"#FF97FF\",\"#FECB52\"],\"font\":{\"color\":\"#2a3f5f\"},\"geo\":{\"bgcolor\":\"white\",\"lakecolor\":\"white\",\"landcolor\":\"#E5ECF6\",\"showlakes\":true,\"showland\":true,\"subunitcolor\":\"white\"},\"hoverlabel\":{\"align\":\"left\"},\"hovermode\":\"closest\",\"mapbox\":{\"style\":\"light\"},\"paper_bgcolor\":\"white\",\"plot_bgcolor\":\"#E5ECF6\",\"polar\":{\"angularaxis\":{\"gridcolor\":\"white\",\"linecolor\":\"white\",\"ticks\":\"\"},\"bgcolor\":\"#E5ECF6\",\"radialaxis\":{\"gridcolor\":\"white\",\"linecolor\":\"white\",\"ticks\":\"\"}},\"scene\":{\"xaxis\":{\"backgroundcolor\":\"#E5ECF6\",\"gridcolor\":\"white\",\"gridwidth\":2,\"linecolor\":\"white\",\"showbackground\":true,\"ticks\":\"\",\"zerolinecolor\":\"white\"},\"yaxis\":{\"backgroundcolor\":\"#E5ECF6\",\"gridcolor\":\"white\",\"gridwidth\":2,\"linecolor\":\"white\",\"showbackground\":true,\"ticks\":\"\",\"zerolinecolor\":\"white\"},\"zaxis\":{\"backgroundcolor\":\"#E5ECF6\",\"gridcolor\":\"white\",\"gridwidth\":2,\"linecolor\":\"white\",\"showbackground\":true,\"ticks\":\"\",\"zerolinecolor\":\"white\"}},\"shapedefaults\":{\"line\":{\"color\":\"#2a3f5f\"}},\"ternary\":{\"aaxis\":{\"gridcolor\":\"white\",\"linecolor\":\"white\",\"ticks\":\"\"},\"baxis\":{\"gridcolor\":\"white\",\"linecolor\":\"white\",\"ticks\":\"\"},\"bgcolor\":\"#E5ECF6\",\"caxis\":{\"gridcolor\":\"white\",\"linecolor\":\"white\",\"ticks\":\"\"}},\"title\":{\"x\":0.05},\"xaxis\":{\"automargin\":true,\"gridcolor\":\"white\",\"linecolor\":\"white\",\"ticks\":\"\",\"title\":{\"standoff\":15},\"zerolinecolor\":\"white\",\"zerolinewidth\":2},\"yaxis\":{\"automargin\":true,\"gridcolor\":\"white\",\"linecolor\":\"white\",\"ticks\":\"\",\"title\":{\"standoff\":15},\"zerolinecolor\":\"white\",\"zerolinewidth\":2}}}},                        {\"responsive\": true}                    ).then(function(){\n",
              "                            \n",
              "var gd = document.getElementById('396bd0b3-8101-4a71-b1f9-90675f6d75c0');\n",
              "var x = new MutationObserver(function (mutations, observer) {{\n",
              "        var display = window.getComputedStyle(gd).display;\n",
              "        if (!display || display === 'none') {{\n",
              "            console.log([gd, 'removed!']);\n",
              "            Plotly.purge(gd);\n",
              "            observer.disconnect();\n",
              "        }}\n",
              "}});\n",
              "\n",
              "// Listen for the removal of the full notebook cells\n",
              "var notebookContainer = gd.closest('#notebook-container');\n",
              "if (notebookContainer) {{\n",
              "    x.observe(notebookContainer, {childList: true});\n",
              "}}\n",
              "\n",
              "// Listen for the clearing of the current output cell\n",
              "var outputEl = gd.closest('.output');\n",
              "if (outputEl) {{\n",
              "    x.observe(outputEl, {childList: true});\n",
              "}}\n",
              "\n",
              "                        })                };                });            </script>        </div>"
            ]
          },
          "metadata": {}
        }
      ],
      "source": [
        "matches_played_byteams=pd.concat([TRM['team1'],TRM['team2']])\n",
        "matches_played_byteams=matches_played_byteams.value_counts().reset_index()\n",
        "matches_played_byteams.columns=['Team','Total Matches']\n",
        "matches_played_byteams['wins']=TRM['winner'].value_counts().reset_index()['winner']\n",
        "matches_played_byteams.set_index('Team',inplace=True)\n",
        "\n",
        "trace1 = go.Bar(\n",
        "    x=matches_played_byteams.index,\n",
        "    y=matches_played_byteams['Total Matches'],\n",
        "    name='Total Matches'\n",
        ")\n",
        "trace2 = go.Bar(\n",
        "    x=matches_played_byteams.index,\n",
        "    y=matches_played_byteams['wins'],\n",
        "    name='Matches Won'\n",
        ")\n",
        "\n",
        "data = [trace1, trace2]\n",
        "layout = go.Layout(\n",
        "    barmode='stack'\n",
        ")\n",
        "\n",
        "fig = go.Figure(data=data, layout=layout)\n",
        "py.iplot(fig, filename='stacked-bar')\n"
      ]
    },
    {
      "cell_type": "markdown",
      "metadata": {
        "_cell_guid": "cad88b7a-23d5-4b2e-8a3f-33f6c9a9e488",
        "_uuid": "6d0dd1cebcbd09cc9575b6bf0fbb29034522ce81",
        "id": "PoOvn3CANWQL"
      },
      "source": [
        "This graph shows that total matches that each team played and the number of matches they won."
      ]
    },
    {
      "cell_type": "markdown",
      "metadata": {
        "_cell_guid": "ade9295c-dcfa-4873-bbc3-b3e3351d0c14",
        "_uuid": "b7ed49573d104cf4be74a1b19f0b812950128c25",
        "id": "Bs68bk3TNWQL"
      },
      "source": [
        "*** DROPPING THE NULL VALUES ***"
      ]
    },
    {
      "cell_type": "markdown",
      "metadata": {
        "_cell_guid": "4a32147d-9657-46fd-9fc7-34ad1b4cfe50",
        "_uuid": "8df7e9b19bf42de4f1e11a4c61ccbeb368402783",
        "id": "D7rD-x3TNWQL"
      },
      "source": [
        "Checking up the null values and damaged data values in the dataset and removing them will give the correct ouput ."
      ]
    },
    {
      "cell_type": "code",
      "execution_count": null,
      "metadata": {
        "_cell_guid": "5c6356f8-f553-49b5-a2e5-b7ab364efd23",
        "_uuid": "9c301cddfa37b0b1d09eca5340854d669f8197c6",
        "colab": {
          "base_uri": "https://localhost:8080/"
        },
        "id": "59sQ_MMMNWQL",
        "outputId": "a64cb603-f03c-4b6b-ca5e-5350cf7a2048"
      },
      "outputs": [
        {
          "output_type": "stream",
          "name": "stdout",
          "text": [
            "    winner\n",
            "id        \n",
            "301    NaN\n"
          ]
        }
      ],
      "source": [
        "null_columns=TRM.columns[TRM.isnull().any()]\n",
        "TRM[null_columns].isnull().sum()\n",
        "\n",
        "print(TRM[TRM[\"winner\"].isnull()][null_columns])\n"
      ]
    },
    {
      "cell_type": "code",
      "execution_count": null,
      "metadata": {
        "colab": {
          "base_uri": "https://localhost:8080/"
        },
        "id": "kFb6E06ZNWQL",
        "outputId": "dfdd25aa-ffcb-47b2-e759-37a1226a0d7f"
      },
      "outputs": [
        {
          "output_type": "stream",
          "name": "stdout",
          "text": [
            "Empty DataFrame\n",
            "Columns: [winner]\n",
            "Index: []\n"
          ]
        }
      ],
      "source": [
        "# Dropping the row \n",
        "TRM=TRM.drop(index=301)\n",
        "print(TRM[TRM[\"winner\"].isnull()][null_columns])"
      ]
    },
    {
      "cell_type": "markdown",
      "metadata": {
        "_cell_guid": "2045bdf2-5260-4584-bcf4-87a46f1251b8",
        "_uuid": "3b6d491b4c736567669257cf5ec082aca98cc682",
        "id": "nutf3_lCNWQM"
      },
      "source": [
        "Now create the feature table to train our data and create the table . All the matches are identified by the *** match_id *** so we can make this field as the primary_index of the  feature table and we have to find that total matches played .\n",
        "From the given dataset we can infer that match_id lies from 1 to 500 matches.\n",
        "Now setting up the team details like which teams are going to play in the match on the respective id's.So add *** Team A *** and *** Team B *** columns to the *** FT *** Dataframe"
      ]
    },
    {
      "cell_type": "code",
      "execution_count": null,
      "metadata": {
        "_cell_guid": "e91234f4-5d89-4350-92a4-ba20bb5fd8b4",
        "_uuid": "6eb67360ac4f07dcd6a6e938e8d92715c470a3c1",
        "colab": {
          "base_uri": "https://localhost:8080/"
        },
        "id": "XVn16_eXNWQM",
        "outputId": "08fd7c1a-d970-4b73-f3a0-580e7a061f95"
      },
      "outputs": [
        {
          "output_type": "stream",
          "name": "stdout",
          "text": [
            "Total Matches Played: 499\n"
          ]
        }
      ],
      "source": [
        "# Creating Feature Table\n",
        "FT=pd.DataFrame()\n",
        "\n",
        "# Making match_id as the index\n",
        "FT[\"match_id\"]=TRM[\"id\"]\n",
        "FT.index=FT[\"match_id\"]\n",
        "\n",
        "print('Total Matches Played:',TRM.shape[0])"
      ]
    },
    {
      "cell_type": "markdown",
      "metadata": {
        "_cell_guid": "4cae78f1-a92d-41d8-b1ef-3c40ec63db2f",
        "_uuid": "fae6aac719b422ca9d2d97de5aac0e50404fa440",
        "id": "FFa6-bnSNWQM"
      },
      "source": [
        "Now setting up the team details like which teams are going to play in the match on the respective id's.So add *** Team A *** and *** Team B *** columns to the *** FT *** Dataframe"
      ]
    },
    {
      "cell_type": "code",
      "execution_count": null,
      "metadata": {
        "_cell_guid": "61ee3f27-2209-4400-bf9c-b876b593c985",
        "_uuid": "b7f200e7737fe9ca46a049c5779cff01b0e68abf",
        "colab": {
          "base_uri": "https://localhost:8080/"
        },
        "id": "OXrEpT8ZNWQN",
        "outputId": "7f98cae9-2b2e-40dc-b236-de3f9e375ebe"
      },
      "outputs": [
        {
          "output_type": "stream",
          "name": "stdout",
          "text": [
            "Teams: ['Team1' 'Team2' 'Team3' 'Team4' 'Team5' 'Team6' 'Team7' 'Team8' 'Team10'\n",
            " 'Team9' 'Team11']\n"
          ]
        },
        {
          "output_type": "stream",
          "name": "stderr",
          "text": [
            "/usr/local/lib/python3.7/dist-packages/ipykernel_launcher.py:4: FutureWarning:\n",
            "\n",
            "In a future version of pandas all arguments of DataFrame.drop except for the argument 'labels' will be keyword-only\n",
            "\n"
          ]
        }
      ],
      "source": [
        "# Adding Team Deatils\n",
        "FT[\"Team A\"]=TRM[\"team1\"]\n",
        "FT[\"Team B\"]=TRM[\"team2\"]\n",
        "FT = FT.drop('match_id', 1)\n",
        "print('Teams:',FT['Team A'].unique())"
      ]
    },
    {
      "cell_type": "markdown",
      "metadata": {
        "_cell_guid": "4dbcac79-7284-494f-845a-c78f2f6ff398",
        "_uuid": "1648011ef721807a5e5e549f796f822a64ed5b0e",
        "id": "KatOtKczNWQN"
      },
      "source": [
        "** SEASON FEATURE **"
      ]
    },
    {
      "cell_type": "markdown",
      "metadata": {
        "_cell_guid": "8f799d0d-cac8-462c-bee6-37fe9404278f",
        "_uuid": "b9e03c06744032b5b4a2aa4bb84ac59fa39aa5f5",
        "collapsed": true,
        "id": "IAjQfwEMNWQN"
      },
      "source": [
        "TIme is a important feature for prediciting match outcome.Since the time period reputates the growth and their downfalls statistically.In this dataset *** season *** feature act as the time period of every match.Now we justify why we taken season as our feature.We also need winning_team result to explorate their winning structure."
      ]
    },
    {
      "cell_type": "code",
      "execution_count": null,
      "metadata": {
        "_cell_guid": "2a42c967-a33a-4dd0-be94-530ccfb2556d",
        "_uuid": "ad1bd3c41b2fd425233ba1af8ade6594bf36c6e6",
        "colab": {
          "base_uri": "https://localhost:8080/",
          "height": 1000
        },
        "id": "u6m7Pf0tNWQN",
        "outputId": "12bf1831-5052-489f-f140-5df62fef46d8"
      },
      "outputs": [
        {
          "output_type": "display_data",
          "data": {
            "text/plain": [
              "<Figure size 576x288 with 0 Axes>"
            ]
          },
          "metadata": {}
        },
        {
          "output_type": "display_data",
          "data": {
            "text/plain": [
              "<Figure size 432x288 with 1 Axes>"
            ],
            "image/png": "[encoded data removed]"
          },
          "metadata": {
            "needs_background": "light"
          }
        },
        {
          "output_type": "display_data",
          "data": {
            "text/plain": [
              "<Figure size 576x288 with 0 Axes>"
            ]
          },
          "metadata": {}
        },
        {
          "output_type": "display_data",
          "data": {
            "text/plain": [
              "<Figure size 432x288 with 1 Axes>"
            ],
            "image/png": "[encoded data removed]"
          },
          "metadata": {
            "needs_background": "light"
          }
        },
        {
          "output_type": "display_data",
          "data": {
            "text/plain": [
              "<Figure size 576x288 with 0 Axes>"
            ]
          },
          "metadata": {}
        },
        {
          "output_type": "display_data",
          "data": {
            "text/plain": [
              "<Figure size 432x288 with 1 Axes>"
            ],
            "image/png": "[encoded data removed]"
          },
          "metadata": {
            "needs_background": "light"
          }
        },
        {
          "output_type": "display_data",
          "data": {
            "text/plain": [
              "<Figure size 576x288 with 0 Axes>"
            ]
          },
          "metadata": {}
        },
        {
          "output_type": "display_data",
          "data": {
            "text/plain": [
              "<Figure size 432x288 with 1 Axes>"
            ],
            "image/png": "[encoded data removed]"
          },
          "metadata": {
            "needs_background": "light"
          }
        },
        {
          "output_type": "display_data",
          "data": {
            "text/plain": [
              "<Figure size 576x288 with 0 Axes>"
            ]
          },
          "metadata": {}
        },
        {
          "output_type": "display_data",
          "data": {
            "text/plain": [
              "<Figure size 432x288 with 1 Axes>"
            ],
            "image/png": "[encoded data removed]"
          },
          "metadata": {
            "needs_background": "light"
          }
        },
        {
          "output_type": "display_data",
          "data": {
            "text/plain": [
              "<Figure size 576x288 with 0 Axes>"
            ]
          },
          "metadata": {}
        },
        {
          "output_type": "display_data",
          "data": {
            "text/plain": [
              "<Figure size 432x288 with 1 Axes>"
            ],
            "image/png": "[encoded data removed]"
          },
          "metadata": {
            "needs_background": "light"
          }
        },
        {
          "output_type": "display_data",
          "data": {
            "text/plain": [
              "<Figure size 576x288 with 0 Axes>"
            ]
          },
          "metadata": {}
        },
        {
          "output_type": "display_data",
          "data": {
            "text/plain": [
              "<Figure size 432x288 with 1 Axes>"
            ],
            "image/png": "[encoded data removed]"
          },
          "metadata": {
            "needs_background": "light"
          }
        },
        {
          "output_type": "display_data",
          "data": {
            "text/plain": [
              "<Figure size 576x288 with 0 Axes>"
            ]
          },
          "metadata": {}
        },
        {
          "output_type": "display_data",
          "data": {
            "text/plain": [
              "<Figure size 432x288 with 1 Axes>"
            ],
            "image/png": "[encoded data removed]"
          },
          "metadata": {
            "needs_background": "light"
          }
        }
      ],
      "source": [
        "# Adding season and winner to the feature table\n",
        "FT[\"season\"]=TRM[\"season\"]\n",
        "FT[\"winner\"]=TRM[\"winner\"]\n",
        "\n",
        "#creating the season and team list\n",
        "season_list=FT['season'].unique()\n",
        "team_list=FT['Team A'].unique()\n",
        "\n",
        "#Now check the frequency of each team won during every season\n",
        "\n",
        "temp_data=pd.DataFrame() # Creating a temporary dataframe    \n",
        "temp_data[\"Team\"]=team_list\n",
        "temp_data.index=temp_data[\"Team\"]\n",
        "\n",
        "for s in season_list:\n",
        "    winner_season=FT.loc[FT['season']== s,\"winner\"] # get the series of winners at the particular season\n",
        "    t=winner_season.value_counts() # count the value of winning_count of each team\n",
        "    t=t.to_frame() # Series is not efficient to work converting to a dataframe\n",
        "    temp_data[\"win_count\"]=t[\"winner\"] \n",
        "    temp_data['win_count']=temp_data['win_count'].fillna(0)\n",
        "    temp_data['win_count']=temp_data['win_count'].astype(int)\n",
        "    tit=\"season \"+str(s)\n",
        "    fig = plt.figure(figsize=(8,4))\n",
        "    temp_data.plot(kind='bar',title=tit)"
      ]
    },
    {
      "cell_type": "markdown",
      "metadata": {
        "_cell_guid": "6a7fefe3-aa0b-4a4b-b240-5fae24003d00",
        "_uuid": "8bc710ef0b8ee82c6e8e22af04a60859ca0f0dbb",
        "collapsed": true,
        "id": "vVlbkXc1NWQO"
      },
      "source": [
        "Hence from the above bar plots we can infer that the team_performance varies seasonally.So we concluded the seasonal values as an important feature to the feature table."
      ]
    },
    {
      "cell_type": "markdown",
      "metadata": {
        "_cell_guid": "72dd5b6a-efeb-4ebf-a2b1-ff3fedda4576",
        "_uuid": "fdd31cb2d6da88fccd222c10d4fdb5830ea2652e",
        "id": "vX6kmAnHNWQO"
      },
      "source": [
        "*** winner *** is our label we dont wanna add this feature by now we can add it later"
      ]
    },
    {
      "cell_type": "code",
      "execution_count": null,
      "metadata": {
        "_cell_guid": "3eaf5d5e-0cce-45de-a23b-8d4638043909",
        "_uuid": "f6906c434ad174fa2fc6856ae620864a4aea0f79",
        "colab": {
          "base_uri": "https://localhost:8080/"
        },
        "id": "xvDO_D91NWQO",
        "outputId": "822f10e2-0bdc-475e-a819-bb681649f79f"
      },
      "outputs": [
        {
          "output_type": "stream",
          "name": "stderr",
          "text": [
            "/usr/local/lib/python3.7/dist-packages/ipykernel_launcher.py:1: FutureWarning:\n",
            "\n",
            "In a future version of pandas all arguments of DataFrame.drop except for the argument 'labels' will be keyword-only\n",
            "\n"
          ]
        }
      ],
      "source": [
        "FT = FT.drop('winner', 1)"
      ]
    },
    {
      "cell_type": "markdown",
      "metadata": {
        "_cell_guid": "a95d3cea-f00c-43c2-884a-58ac3b020013",
        "_uuid": "8b75af1539bdb5d01ff1e9c97d963348f484654b",
        "id": "MaWmgUVMNWQP"
      },
      "source": [
        "*** TOSS FEATURE ***"
      ]
    },
    {
      "cell_type": "code",
      "execution_count": null,
      "metadata": {
        "_cell_guid": "e9dcf50a-3daa-431a-9831-64d119c80eb6",
        "_uuid": "c2cfd34989b8b2c33dad1d66506dca346acc3524",
        "colab": {
          "base_uri": "https://localhost:8080/",
          "height": 821
        },
        "id": "nO3QiXFRNWQP",
        "outputId": "494dce56-f874-4c95-f835-05e4fdb55175"
      },
      "outputs": [
        {
          "output_type": "display_data",
          "data": {
            "text/plain": [
              "<Figure size 576x432 with 1 Axes>"
            ],
            "image/png": "[encoded data removed]"
          },
          "metadata": {
            "needs_background": "light"
          }
        },
        {
          "output_type": "display_data",
          "data": {
            "text/plain": [
              "<Figure size 576x432 with 1 Axes>"
            ],
            "image/png": "[encoded data removed]"
          },
          "metadata": {
            "needs_background": "light"
          }
        }
      ],
      "source": [
        "teams=['Team1','Team2','Team3','Team4','Team5','Team6','Team7','Team8','Team9','Team10','Team11']\n",
        "t=pd.Series(teams)\n",
        "# finding the frequency of toss winners and the match winners to correlate\n",
        "temp_toss_winner=pd.DataFrame()\n",
        "temp_toss_winner['Team']=t.values\n",
        "temp_match_winner=pd.DataFrame()\n",
        "temp_match_winner['Team']=t.values\n",
        "\n",
        "#Caluclating toss_winning and match winning frequency of each team\n",
        "temp_toss_winner['Count'] = temp_toss_winner['Team'].map(TRM['toss_winner'].value_counts())\n",
        "temp_match_winner['Count']=temp_match_winner['Team'].map(TRM['winner'].value_counts())\n",
        "\n",
        "plt.subplots(figsize=(8,6))\n",
        "ax=TRM['toss_winner'].value_counts().plot.bar(width=0.8)\n",
        "for p in ax.patches:\n",
        "    ax.annotate(format(p.get_height()), (p.get_x()+0.15, p.get_height()+1))\n",
        "plt.title(\"Toss Winner\")\n",
        "plt.show()\n",
        "\n",
        "plt.subplots(figsize=(8,6))\n",
        "ax=TRM['winner'].value_counts().plot.bar(width=0.8)\n",
        "for p in ax.patches:\n",
        "    ax.annotate(format(p.get_height()), (p.get_x()+0.15, p.get_height()+1))\n",
        "plt.title(\"Match Winner\")\n",
        "plt.show()"
      ]
    },
    {
      "cell_type": "markdown",
      "metadata": {
        "_cell_guid": "fef984f0-6808-4f84-a991-9e6059cdd51d",
        "_uuid": "59b151e812198afbed94a084070bee2d2395e79b",
        "id": "-6lP4bBxNWQP"
      },
      "source": [
        "We have to know whether toss won act as a important role in winning decision.To check we have to visulaize a probablitic calculation."
      ]
    },
    {
      "cell_type": "code",
      "execution_count": null,
      "metadata": {
        "_cell_guid": "6e277e4c-7c73-4924-b441-ea215edab64b",
        "_uuid": "57c3fe9e0fa4f25a9f0e6fcb56ce6ff72e7033cc",
        "colab": {
          "base_uri": "https://localhost:8080/",
          "height": 357
        },
        "id": "fuDL2mgVNWQP",
        "outputId": "a305557a-cc32-42b0-9c70-18330271fadb"
      },
      "outputs": [
        {
          "output_type": "display_data",
          "data": {
            "text/plain": [
              "<Figure size 432x432 with 1 Axes>"
            ],
            "image/png": "[encoded data removed]"
          },
          "metadata": {}
        }
      ],
      "source": [
        "df=TRM[TRM['toss_winner']==TRM['winner']]\n",
        "slices=[len(df),(577-len(df))]\n",
        "labels=['yes','no']\n",
        "plt.pie(slices,labels=labels,startangle=90,shadow=True,explode=(0,0),autopct='%1.1f%%',colors=['r','g'])\n",
        "fig = plt.gcf()\n",
        "fig.set_size_inches(6,6)\n",
        "plt.show()"
      ]
    },
    {
      "cell_type": "markdown",
      "metadata": {
        "_cell_guid": "ba9e4cfb-9d23-4301-a463-e3325a7d078d",
        "_uuid": "0d307daa4ce60cbc4102cb803071286f68e6c8db",
        "id": "rRnMfnXDNWQQ"
      },
      "source": [
        "From this correaltion graph we can identify that toss winning also act as a major feature in predicting the result .From the graph we can infer that 43.7% toss winners are match winners."
      ]
    },
    {
      "cell_type": "code",
      "execution_count": null,
      "metadata": {
        "_cell_guid": "60edb823-ee26-425c-a7a6-a0c4c0358ac5",
        "_uuid": "4b066fff3b631ffde2b4c854d699910ec8db6f76",
        "id": "KxqPJ_E1NWQQ"
      },
      "outputs": [],
      "source": [
        "# Adding the toss_winner to the feature table\n",
        "FT[\"toss_winner\"]=TRM[\"toss_winner\"]"
      ]
    },
    {
      "cell_type": "markdown",
      "metadata": {
        "_cell_guid": "2a602b20-d406-4ab5-96c6-14e7547a26be",
        "_uuid": "48ce427bcbc2cb15147b6e4f80218a8e2df7b1ed",
        "collapsed": true,
        "id": "E_C9z-73NWQQ"
      },
      "source": [
        "** DUCKWORTH-LEWIS METHOD **"
      ]
    },
    {
      "cell_type": "markdown",
      "metadata": {
        "_cell_guid": "4ce78219-0ddd-4fdc-908a-38ec2f41d450",
        "_uuid": "8216e06522251644e660529d6c3b1ec7018f3d61",
        "id": "SFigummFNWQQ"
      },
      "source": [
        "Duckworth-Lewis method(D/L method) is a mathematical function defined to set and calculate the target score for the team batting second in One day international cricket matches. It is the most complex and irritating function for the audience who are watching cricket. When duck-worth lewis method is appiled it may errupt the entire prediction system so we should as a feature table to avoid this type of scenarios."
      ]
    },
    {
      "cell_type": "code",
      "execution_count": null,
      "metadata": {
        "_cell_guid": "afc261e3-a816-4cc1-9828-da0826cf33af",
        "_uuid": "7e9a5eb143d5b124c549fd8810f8d9c1505b6ce4",
        "colab": {
          "base_uri": "https://localhost:8080/",
          "height": 458
        },
        "id": "Fzq-dhyJNWQQ",
        "outputId": "946008f3-1be6-485e-fdeb-373e95185b82"
      },
      "outputs": [
        {
          "output_type": "execute_result",
          "data": {
            "text/plain": [
              "      id  season    city   team1   team2 toss_winner toss_decision  result  \\\n",
              "id                                                                           \n",
              "57    57    2017   City5   Team1   Team6       Team6         field  normal   \n",
              "100  100    2008   City9   Team7   Team8       Team7           bat  normal   \n",
              "103  103    2008   City8   Team6  Team10       Team6           bat  normal   \n",
              "120  120    2009  City14   Team8   Team7       Team7         field  normal   \n",
              "123  123    2009  City16   Team8   Team6       Team6         field  normal   \n",
              "149  149    2009  City17  Team10   Team8      Team10           bat  normal   \n",
              "252  252    2011  City26  Team10  Team11      Team11         field  normal   \n",
              "281  281    2011   City8  Team10   Team6      Team10           bat  normal   \n",
              "291  291    2011   City5   Team6   Team5       Team5         field  normal   \n",
              "489  489    2014   City9   Team7   Team1       Team1         field  normal   \n",
              "\n",
              "     dl_applied  winner  win_by_runs  win_by_wickets player_of_match  \\\n",
              "id                                                                     \n",
              "57            1   Team6            0               7      Player 286   \n",
              "100           1   Team8            6               0      Player 125   \n",
              "103           1  Team10            3               0      Player 236   \n",
              "120           1   Team7            0              10      Player 120   \n",
              "123           1   Team6           11               0       Player 87   \n",
              "149           1  Team10           12               0      Player 259   \n",
              "252           1  Team11            0               7       Player 68   \n",
              "281           1   Team6           10               0      Player 161   \n",
              "291           1   Team5            0               4       Player 87   \n",
              "489           1   Team1            0               8      Player 132   \n",
              "\n",
              "         venue  \n",
              "id              \n",
              "57    Stadium5  \n",
              "100   Stadium8  \n",
              "103   Stadium7  \n",
              "120  Stadium14  \n",
              "123  Stadium16  \n",
              "149  Stadium17  \n",
              "252  Stadium27  \n",
              "281   Stadium7  \n",
              "291   Stadium5  \n",
              "489   Stadium8  "
            ],
            "text/html": [
              "\n",
              "  <div id=\"df-929efc6c-c267-4969-8737-d014f5c5580e\">\n",
              "    <div class=\"colab-df-container\">\n",
              "      <div>\n",
              "<style scoped>\n",
              "    .dataframe tbody tr th:only-of-type {\n",
              "        vertical-align: middle;\n",
              "    }\n",
              "\n",
              "    .dataframe tbody tr th {\n",
              "        vertical-align: top;\n",
              "    }\n",
              "\n",
              "    .dataframe thead th {\n",
              "        text-align: right;\n",
              "    }\n",
              "</style>\n",
              "<table border=\"1\" class=\"dataframe\">\n",
              "  <thead>\n",
              "    <tr style=\"text-align: right;\">\n",
              "      <th></th>\n",
              "      <th>id</th>\n",
              "      <th>season</th>\n",
              "      <th>city</th>\n",
              "      <th>team1</th>\n",
              "      <th>team2</th>\n",
              "      <th>toss_winner</th>\n",
              "      <th>toss_decision</th>\n",
              "      <th>result</th>\n",
              "      <th>dl_applied</th>\n",
              "      <th>winner</th>\n",
              "      <th>win_by_runs</th>\n",
              "      <th>win_by_wickets</th>\n",
              "      <th>player_of_match</th>\n",
              "      <th>venue</th>\n",
              "    </tr>\n",
              "    <tr>\n",
              "      <th>id</th>\n",
              "      <th></th>\n",
              "      <th></th>\n",
              "      <th></th>\n",
              "      <th></th>\n",
              "      <th></th>\n",
              "      <th></th>\n",
              "      <th></th>\n",
              "      <th></th>\n",
              "      <th></th>\n",
              "      <th></th>\n",
              "      <th></th>\n",
              "      <th></th>\n",
              "      <th></th>\n",
              "      <th></th>\n",
              "    </tr>\n",
              "  </thead>\n",
              "  <tbody>\n",
              "    <tr>\n",
              "      <th>57</th>\n",
              "      <td>57</td>\n",
              "      <td>2017</td>\n",
              "      <td>City5</td>\n",
              "      <td>Team1</td>\n",
              "      <td>Team6</td>\n",
              "      <td>Team6</td>\n",
              "      <td>field</td>\n",
              "      <td>normal</td>\n",
              "      <td>1</td>\n",
              "      <td>Team6</td>\n",
              "      <td>0</td>\n",
              "      <td>7</td>\n",
              "      <td>Player 286</td>\n",
              "      <td>Stadium5</td>\n",
              "    </tr>\n",
              "    <tr>\n",
              "      <th>100</th>\n",
              "      <td>100</td>\n",
              "      <td>2008</td>\n",
              "      <td>City9</td>\n",
              "      <td>Team7</td>\n",
              "      <td>Team8</td>\n",
              "      <td>Team7</td>\n",
              "      <td>bat</td>\n",
              "      <td>normal</td>\n",
              "      <td>1</td>\n",
              "      <td>Team8</td>\n",
              "      <td>6</td>\n",
              "      <td>0</td>\n",
              "      <td>Player 125</td>\n",
              "      <td>Stadium8</td>\n",
              "    </tr>\n",
              "    <tr>\n",
              "      <th>103</th>\n",
              "      <td>103</td>\n",
              "      <td>2008</td>\n",
              "      <td>City8</td>\n",
              "      <td>Team6</td>\n",
              "      <td>Team10</td>\n",
              "      <td>Team6</td>\n",
              "      <td>bat</td>\n",
              "      <td>normal</td>\n",
              "      <td>1</td>\n",
              "      <td>Team10</td>\n",
              "      <td>3</td>\n",
              "      <td>0</td>\n",
              "      <td>Player 236</td>\n",
              "      <td>Stadium7</td>\n",
              "    </tr>\n",
              "    <tr>\n",
              "      <th>120</th>\n",
              "      <td>120</td>\n",
              "      <td>2009</td>\n",
              "      <td>City14</td>\n",
              "      <td>Team8</td>\n",
              "      <td>Team7</td>\n",
              "      <td>Team7</td>\n",
              "      <td>field</td>\n",
              "      <td>normal</td>\n",
              "      <td>1</td>\n",
              "      <td>Team7</td>\n",
              "      <td>0</td>\n",
              "      <td>10</td>\n",
              "      <td>Player 120</td>\n",
              "      <td>Stadium14</td>\n",
              "    </tr>\n",
              "    <tr>\n",
              "      <th>123</th>\n",
              "      <td>123</td>\n",
              "      <td>2009</td>\n",
              "      <td>City16</td>\n",
              "      <td>Team8</td>\n",
              "      <td>Team6</td>\n",
              "      <td>Team6</td>\n",
              "      <td>field</td>\n",
              "      <td>normal</td>\n",
              "      <td>1</td>\n",
              "      <td>Team6</td>\n",
              "      <td>11</td>\n",
              "      <td>0</td>\n",
              "      <td>Player 87</td>\n",
              "      <td>Stadium16</td>\n",
              "    </tr>\n",
              "    <tr>\n",
              "      <th>149</th>\n",
              "      <td>149</td>\n",
              "      <td>2009</td>\n",
              "      <td>City17</td>\n",
              "      <td>Team10</td>\n",
              "      <td>Team8</td>\n",
              "      <td>Team10</td>\n",
              "      <td>bat</td>\n",
              "      <td>normal</td>\n",
              "      <td>1</td>\n",
              "      <td>Team10</td>\n",
              "      <td>12</td>\n",
              "      <td>0</td>\n",
              "      <td>Player 259</td>\n",
              "      <td>Stadium17</td>\n",
              "    </tr>\n",
              "    <tr>\n",
              "      <th>252</th>\n",
              "      <td>252</td>\n",
              "      <td>2011</td>\n",
              "      <td>City26</td>\n",
              "      <td>Team10</td>\n",
              "      <td>Team11</td>\n",
              "      <td>Team11</td>\n",
              "      <td>field</td>\n",
              "      <td>normal</td>\n",
              "      <td>1</td>\n",
              "      <td>Team11</td>\n",
              "      <td>0</td>\n",
              "      <td>7</td>\n",
              "      <td>Player 68</td>\n",
              "      <td>Stadium27</td>\n",
              "    </tr>\n",
              "    <tr>\n",
              "      <th>281</th>\n",
              "      <td>281</td>\n",
              "      <td>2011</td>\n",
              "      <td>City8</td>\n",
              "      <td>Team10</td>\n",
              "      <td>Team6</td>\n",
              "      <td>Team10</td>\n",
              "      <td>bat</td>\n",
              "      <td>normal</td>\n",
              "      <td>1</td>\n",
              "      <td>Team6</td>\n",
              "      <td>10</td>\n",
              "      <td>0</td>\n",
              "      <td>Player 161</td>\n",
              "      <td>Stadium7</td>\n",
              "    </tr>\n",
              "    <tr>\n",
              "      <th>291</th>\n",
              "      <td>291</td>\n",
              "      <td>2011</td>\n",
              "      <td>City5</td>\n",
              "      <td>Team6</td>\n",
              "      <td>Team5</td>\n",
              "      <td>Team5</td>\n",
              "      <td>field</td>\n",
              "      <td>normal</td>\n",
              "      <td>1</td>\n",
              "      <td>Team5</td>\n",
              "      <td>0</td>\n",
              "      <td>4</td>\n",
              "      <td>Player 87</td>\n",
              "      <td>Stadium5</td>\n",
              "    </tr>\n",
              "    <tr>\n",
              "      <th>489</th>\n",
              "      <td>489</td>\n",
              "      <td>2014</td>\n",
              "      <td>City9</td>\n",
              "      <td>Team7</td>\n",
              "      <td>Team1</td>\n",
              "      <td>Team1</td>\n",
              "      <td>field</td>\n",
              "      <td>normal</td>\n",
              "      <td>1</td>\n",
              "      <td>Team1</td>\n",
              "      <td>0</td>\n",
              "      <td>8</td>\n",
              "      <td>Player 132</td>\n",
              "      <td>Stadium8</td>\n",
              "    </tr>\n",
              "  </tbody>\n",
              "</table>\n",
              "</div>\n",
              "      <button class=\"colab-df-convert\" onclick=\"convertToInteractive('df-929efc6c-c267-4969-8737-d014f5c5580e')\"\n",
              "              title=\"Convert this dataframe to an interactive table.\"\n",
              "              style=\"display:none;\">\n",
              "        \n",
              "  <svg xmlns=\"http://www.w3.org/2000/svg\" height=\"24px\"viewBox=\"0 0 24 24\"\n",
              "       width=\"24px\">\n",
              "    <path d=\"M0 0h24v24H0V0z\" fill=\"none\"/>\n",
              "    <path d=\"M18.56 5.44l.94 2.06.94-2.06 2.06-.94-2.06-.94-.94-2.06-.94 2.06-2.06.94zm-11 1L8.5 8.5l.94-2.06 2.06-.94-2.06-.94L8.5 2.5l-.94 2.06-2.06.94zm10 10l.94 2.06.94-2.06 2.06-.94-2.06-.94-.94-2.06-.94 2.06-2.06.94z\"/><path d=\"M17.41 7.96l-1.37-1.37c-.4-.4-.92-.59-1.43-.59-.52 0-1.04.2-1.43.59L10.3 9.45l-7.72 7.72c-.78.78-.78 2.05 0 2.83L4 21.41c.39.39.9.59 1.41.59.51 0 1.02-.2 1.41-.59l7.78-7.78 2.81-2.81c.8-.78.8-2.07 0-2.86zM5.41 20L4 18.59l7.72-7.72 1.47 1.35L5.41 20z\"/>\n",
              "  </svg>\n",
              "      </button>\n",
              "      \n",
              "  <style>\n",
              "    .colab-df-container {\n",
              "      display:flex;\n",
              "      flex-wrap:wrap;\n",
              "      gap: 12px;\n",
              "    }\n",
              "\n",
              "    .colab-df-convert {\n",
              "      background-color: #E8F0FE;\n",
              "      border: none;\n",
              "      border-radius: 50%;\n",
              "      cursor: pointer;\n",
              "      display: none;\n",
              "      fill: #1967D2;\n",
              "      height: 32px;\n",
              "      padding: 0 0 0 0;\n",
              "      width: 32px;\n",
              "    }\n",
              "\n",
              "    .colab-df-convert:hover {\n",
              "      background-color: #E2EBFA;\n",
              "      box-shadow: 0px 1px 2px rgba(60, 64, 67, 0.3), 0px 1px 3px 1px rgba(60, 64, 67, 0.15);\n",
              "      fill: #174EA6;\n",
              "    }\n",
              "\n",
              "    [theme=dark] .colab-df-convert {\n",
              "      background-color: #3B4455;\n",
              "      fill: #D2E3FC;\n",
              "    }\n",
              "\n",
              "    [theme=dark] .colab-df-convert:hover {\n",
              "      background-color: #434B5C;\n",
              "      box-shadow: 0px 1px 3px 1px rgba(0, 0, 0, 0.15);\n",
              "      filter: drop-shadow(0px 1px 2px rgba(0, 0, 0, 0.3));\n",
              "      fill: #FFFFFF;\n",
              "    }\n",
              "  </style>\n",
              "\n",
              "      <script>\n",
              "        const buttonEl =\n",
              "          document.querySelector('#df-929efc6c-c267-4969-8737-d014f5c5580e button.colab-df-convert');\n",
              "        buttonEl.style.display =\n",
              "          google.colab.kernel.accessAllowed ? 'block' : 'none';\n",
              "\n",
              "        async function convertToInteractive(key) {\n",
              "          const element = document.querySelector('#df-929efc6c-c267-4969-8737-d014f5c5580e');\n",
              "          const dataTable =\n",
              "            await google.colab.kernel.invokeFunction('convertToInteractive',\n",
              "                                                     [key], {});\n",
              "          if (!dataTable) return;\n",
              "\n",
              "          const docLinkHtml = 'Like what you see? Visit the ' +\n",
              "            '<a target=\"_blank\" href=https://colab.research.google.com/notebooks/data_table.ipynb>data table notebook</a>'\n",
              "            + ' to learn more about interactive tables.';\n",
              "          element.innerHTML = '';\n",
              "          dataTable['output_type'] = 'display_data';\n",
              "          await google.colab.output.renderOutput(dataTable, element);\n",
              "          const docLink = document.createElement('div');\n",
              "          docLink.innerHTML = docLinkHtml;\n",
              "          element.appendChild(docLink);\n",
              "        }\n",
              "      </script>\n",
              "    </div>\n",
              "  </div>\n",
              "  "
            ]
          },
          "metadata": {},
          "execution_count": 15
        }
      ],
      "source": [
        "\n",
        "dl=TRM.loc[TRM['dl_applied'] == 1]\n",
        "dl"
      ]
    },
    {
      "cell_type": "markdown",
      "metadata": {
        "_cell_guid": "af133755-d5ea-49a6-990f-53b5eaaa9859",
        "_uuid": "adbbfc02787a8ed4760d65c818258c8d406a056b",
        "collapsed": true,
        "id": "MquvcSJ6NWQR"
      },
      "source": [
        "Totally 10 matches is influenced by dl method the only go is to remove these 10 matches or add this as a feature to the feature table.But I select to add this as feature beacause our model will be trained to predict the *** dl applied mathches ***."
      ]
    },
    {
      "cell_type": "code",
      "execution_count": null,
      "metadata": {
        "_cell_guid": "cebc775a-e10d-444c-a955-225d26f01c3f",
        "_uuid": "1f25c0d85abefbe345220629b68fcbf58a23749e",
        "colab": {
          "base_uri": "https://localhost:8080/",
          "height": 455
        },
        "id": "b98CXWyXNWQR",
        "outputId": "114cc945-0fb5-436a-bcda-d9bb07cfac55"
      },
      "outputs": [
        {
          "output_type": "execute_result",
          "data": {
            "text/plain": [
              "          Team A Team B  season toss_winner  dl_applied\n",
              "match_id                                               \n",
              "1          Team1  Team5    2017       Team5           0\n",
              "2          Team2  Team4    2017       Team4           0\n",
              "3          Team3  Team6    2017       Team6           0\n",
              "4          Team4  Team8    2017       Team8           0\n",
              "5          Team5  Team7    2017       Team5           0\n",
              "...          ...    ...     ...         ...         ...\n",
              "496        Team1  Team8    2014       Team8           0\n",
              "497        Team2  Team6    2014       Team6           0\n",
              "498        Team9  Team7    2014       Team7           0\n",
              "499       Team10  Team5    2014      Team10           0\n",
              "500        Team1  Team6    2014       Team1           0\n",
              "\n",
              "[499 rows x 5 columns]"
            ],
            "text/html": [
              "\n",
              "  <div id=\"df-4bdacb16-958b-4f3e-9600-ffd43af6232b\">\n",
              "    <div class=\"colab-df-container\">\n",
              "      <div>\n",
              "<style scoped>\n",
              "    .dataframe tbody tr th:only-of-type {\n",
              "        vertical-align: middle;\n",
              "    }\n",
              "\n",
              "    .dataframe tbody tr th {\n",
              "        vertical-align: top;\n",
              "    }\n",
              "\n",
              "    .dataframe thead th {\n",
              "        text-align: right;\n",
              "    }\n",
              "</style>\n",
              "<table border=\"1\" class=\"dataframe\">\n",
              "  <thead>\n",
              "    <tr style=\"text-align: right;\">\n",
              "      <th></th>\n",
              "      <th>Team A</th>\n",
              "      <th>Team B</th>\n",
              "      <th>season</th>\n",
              "      <th>toss_winner</th>\n",
              "      <th>dl_applied</th>\n",
              "    </tr>\n",
              "    <tr>\n",
              "      <th>match_id</th>\n",
              "      <th></th>\n",
              "      <th></th>\n",
              "      <th></th>\n",
              "      <th></th>\n",
              "      <th></th>\n",
              "    </tr>\n",
              "  </thead>\n",
              "  <tbody>\n",
              "    <tr>\n",
              "      <th>1</th>\n",
              "      <td>Team1</td>\n",
              "      <td>Team5</td>\n",
              "      <td>2017</td>\n",
              "      <td>Team5</td>\n",
              "      <td>0</td>\n",
              "    </tr>\n",
              "    <tr>\n",
              "      <th>2</th>\n",
              "      <td>Team2</td>\n",
              "      <td>Team4</td>\n",
              "      <td>2017</td>\n",
              "      <td>Team4</td>\n",
              "      <td>0</td>\n",
              "    </tr>\n",
              "    <tr>\n",
              "      <th>3</th>\n",
              "      <td>Team3</td>\n",
              "      <td>Team6</td>\n",
              "      <td>2017</td>\n",
              "      <td>Team6</td>\n",
              "      <td>0</td>\n",
              "    </tr>\n",
              "    <tr>\n",
              "      <th>4</th>\n",
              "      <td>Team4</td>\n",
              "      <td>Team8</td>\n",
              "      <td>2017</td>\n",
              "      <td>Team8</td>\n",
              "      <td>0</td>\n",
              "    </tr>\n",
              "    <tr>\n",
              "      <th>5</th>\n",
              "      <td>Team5</td>\n",
              "      <td>Team7</td>\n",
              "      <td>2017</td>\n",
              "      <td>Team5</td>\n",
              "      <td>0</td>\n",
              "    </tr>\n",
              "    <tr>\n",
              "      <th>...</th>\n",
              "      <td>...</td>\n",
              "      <td>...</td>\n",
              "      <td>...</td>\n",
              "      <td>...</td>\n",
              "      <td>...</td>\n",
              "    </tr>\n",
              "    <tr>\n",
              "      <th>496</th>\n",
              "      <td>Team1</td>\n",
              "      <td>Team8</td>\n",
              "      <td>2014</td>\n",
              "      <td>Team8</td>\n",
              "      <td>0</td>\n",
              "    </tr>\n",
              "    <tr>\n",
              "      <th>497</th>\n",
              "      <td>Team2</td>\n",
              "      <td>Team6</td>\n",
              "      <td>2014</td>\n",
              "      <td>Team6</td>\n",
              "      <td>0</td>\n",
              "    </tr>\n",
              "    <tr>\n",
              "      <th>498</th>\n",
              "      <td>Team9</td>\n",
              "      <td>Team7</td>\n",
              "      <td>2014</td>\n",
              "      <td>Team7</td>\n",
              "      <td>0</td>\n",
              "    </tr>\n",
              "    <tr>\n",
              "      <th>499</th>\n",
              "      <td>Team10</td>\n",
              "      <td>Team5</td>\n",
              "      <td>2014</td>\n",
              "      <td>Team10</td>\n",
              "      <td>0</td>\n",
              "    </tr>\n",
              "    <tr>\n",
              "      <th>500</th>\n",
              "      <td>Team1</td>\n",
              "      <td>Team6</td>\n",
              "      <td>2014</td>\n",
              "      <td>Team1</td>\n",
              "      <td>0</td>\n",
              "    </tr>\n",
              "  </tbody>\n",
              "</table>\n",
              "<p>499 rows × 5 columns</p>\n",
              "</div>\n",
              "      <button class=\"colab-df-convert\" onclick=\"convertToInteractive('df-4bdacb16-958b-4f3e-9600-ffd43af6232b')\"\n",
              "              title=\"Convert this dataframe to an interactive table.\"\n",
              "              style=\"display:none;\">\n",
              "        \n",
              "  <svg xmlns=\"http://www.w3.org/2000/svg\" height=\"24px\"viewBox=\"0 0 24 24\"\n",
              "       width=\"24px\">\n",
              "    <path d=\"M0 0h24v24H0V0z\" fill=\"none\"/>\n",
              "    <path d=\"M18.56 5.44l.94 2.06.94-2.06 2.06-.94-2.06-.94-.94-2.06-.94 2.06-2.06.94zm-11 1L8.5 8.5l.94-2.06 2.06-.94-2.06-.94L8.5 2.5l-.94 2.06-2.06.94zm10 10l.94 2.06.94-2.06 2.06-.94-2.06-.94-.94-2.06-.94 2.06-2.06.94z\"/><path d=\"M17.41 7.96l-1.37-1.37c-.4-.4-.92-.59-1.43-.59-.52 0-1.04.2-1.43.59L10.3 9.45l-7.72 7.72c-.78.78-.78 2.05 0 2.83L4 21.41c.39.39.9.59 1.41.59.51 0 1.02-.2 1.41-.59l7.78-7.78 2.81-2.81c.8-.78.8-2.07 0-2.86zM5.41 20L4 18.59l7.72-7.72 1.47 1.35L5.41 20z\"/>\n",
              "  </svg>\n",
              "      </button>\n",
              "      \n",
              "  <style>\n",
              "    .colab-df-container {\n",
              "      display:flex;\n",
              "      flex-wrap:wrap;\n",
              "      gap: 12px;\n",
              "    }\n",
              "\n",
              "    .colab-df-convert {\n",
              "      background-color: #E8F0FE;\n",
              "      border: none;\n",
              "      border-radius: 50%;\n",
              "      cursor: pointer;\n",
              "      display: none;\n",
              "      fill: #1967D2;\n",
              "      height: 32px;\n",
              "      padding: 0 0 0 0;\n",
              "      width: 32px;\n",
              "    }\n",
              "\n",
              "    .colab-df-convert:hover {\n",
              "      background-color: #E2EBFA;\n",
              "      box-shadow: 0px 1px 2px rgba(60, 64, 67, 0.3), 0px 1px 3px 1px rgba(60, 64, 67, 0.15);\n",
              "      fill: #174EA6;\n",
              "    }\n",
              "\n",
              "    [theme=dark] .colab-df-convert {\n",
              "      background-color: #3B4455;\n",
              "      fill: #D2E3FC;\n",
              "    }\n",
              "\n",
              "    [theme=dark] .colab-df-convert:hover {\n",
              "      background-color: #434B5C;\n",
              "      box-shadow: 0px 1px 3px 1px rgba(0, 0, 0, 0.15);\n",
              "      filter: drop-shadow(0px 1px 2px rgba(0, 0, 0, 0.3));\n",
              "      fill: #FFFFFF;\n",
              "    }\n",
              "  </style>\n",
              "\n",
              "      <script>\n",
              "        const buttonEl =\n",
              "          document.querySelector('#df-4bdacb16-958b-4f3e-9600-ffd43af6232b button.colab-df-convert');\n",
              "        buttonEl.style.display =\n",
              "          google.colab.kernel.accessAllowed ? 'block' : 'none';\n",
              "\n",
              "        async function convertToInteractive(key) {\n",
              "          const element = document.querySelector('#df-4bdacb16-958b-4f3e-9600-ffd43af6232b');\n",
              "          const dataTable =\n",
              "            await google.colab.kernel.invokeFunction('convertToInteractive',\n",
              "                                                     [key], {});\n",
              "          if (!dataTable) return;\n",
              "\n",
              "          const docLinkHtml = 'Like what you see? Visit the ' +\n",
              "            '<a target=\"_blank\" href=https://colab.research.google.com/notebooks/data_table.ipynb>data table notebook</a>'\n",
              "            + ' to learn more about interactive tables.';\n",
              "          element.innerHTML = '';\n",
              "          dataTable['output_type'] = 'display_data';\n",
              "          await google.colab.output.renderOutput(dataTable, element);\n",
              "          const docLink = document.createElement('div');\n",
              "          docLink.innerHTML = docLinkHtml;\n",
              "          element.appendChild(docLink);\n",
              "        }\n",
              "      </script>\n",
              "    </div>\n",
              "  </div>\n",
              "  "
            ]
          },
          "metadata": {},
          "execution_count": 16
        }
      ],
      "source": [
        "FT[\"dl_applied\"]=TRM[\"dl_applied\"]\n",
        "FT"
      ]
    },
    {
      "cell_type": "markdown",
      "metadata": {
        "_cell_guid": "a3ae27d5-334a-4503-8d8d-464ef4655880",
        "_uuid": "645f66da8edcf4735afbc38b9c7b142ca6fa4f7f",
        "id": "H2ImXzmCNWQR"
      },
      "source": [
        "** VENUE FEATURE **"
      ]
    },
    {
      "cell_type": "code",
      "execution_count": null,
      "metadata": {
        "_cell_guid": "26a0aada-5b3c-46c5-928d-15a9f97f59e9",
        "_uuid": "b7479a035df0103bbb636d5881229af8966563d6",
        "colab": {
          "base_uri": "https://localhost:8080/",
          "height": 877
        },
        "id": "ZXHS3ORYNWQR",
        "outputId": "c4ac9b17-d42e-467a-a098-afe712943aea"
      },
      "outputs": [
        {
          "output_type": "display_data",
          "data": {
            "text/plain": [
              "<Figure size 720x1080 with 1 Axes>"
            ],
            "image/png": "[encoded data removed]"
          },
          "metadata": {
            "needs_background": "light"
          }
        }
      ],
      "source": [
        "plt.subplots(figsize=(10,15))\n",
        "ax = TRM['venue'].value_counts().sort_values(ascending=True).plot.barh(width=.9)\n",
        "ax.set_xlabel('Grounds')\n",
        "ax.set_ylabel('count')\n",
        "plt.show()"
      ]
    },
    {
      "cell_type": "markdown",
      "metadata": {
        "_cell_guid": "80cc6595-c1c7-4efe-a747-d19a436f70d0",
        "_uuid": "222eed1593d80d68a2ad933047ad6a9efec3eb6a",
        "id": "dZqHJkmCNWQS"
      },
      "source": [
        "From this visualization we can infer that most matches are conducted only on major 7 statdiums .From this we can draw to a conclusion that stadium does not play a major role in deciding the victory compare to other features."
      ]
    },
    {
      "cell_type": "markdown",
      "metadata": {
        "_cell_guid": "318b52e5-2890-4849-b832-2e9aec3a2b61",
        "_uuid": "26259215db6b865567b73c2b4c4817a4a42d4ad6",
        "id": "0YGLdEcLNWQS"
      },
      "source": [
        "** TEAM DELIVERIES **"
      ]
    },
    {
      "cell_type": "markdown",
      "metadata": {
        "_cell_guid": "c534969b-9064-4686-9596-cce47051bca7",
        "_uuid": "d613badaa8d656a2f04d9bc2b9713cb2bb9c5be0",
        "id": "3hlXKMwBNWQT"
      },
      "source": [
        "*** RUNS PER OVER ACROSS SEASON ***"
      ]
    },
    {
      "cell_type": "code",
      "execution_count": null,
      "metadata": {
        "_cell_guid": "9e636923-e4a6-4457-bd7b-b2682edc9be1",
        "_uuid": "9b11b1f2c332d1586aa649fd5dc22b57bbed250c",
        "colab": {
          "base_uri": "https://localhost:8080/",
          "height": 497
        },
        "id": "GAA3OwlRNWQT",
        "outputId": "9b539cc1-b9e6-458c-8b24-274f9c361734"
      },
      "outputs": [
        {
          "output_type": "display_data",
          "data": {
            "text/plain": [
              "<Figure size 1152x576 with 1 Axes>"
            ],
            "image/png": "[encoded data removed]"
          },
          "metadata": {
            "needs_background": "light"
          }
        }
      ],
      "source": [
        "runs_per_over = TRD.pivot_table(index=['over'],columns='batting_team',values='total_runs',aggfunc=sum)\n",
        "runs_per_over[(matches_played_byteams[matches_played_byteams['Total Matches']>50].index)].plot(color=[\"b\", \"r\", \"#Ffb6b2\", \"g\",'brown','y','#6666ff','black','#FFA500']) #plotting graphs for teams that have played more than 100 matches\n",
        "x=[1,2,3,4,5,6,7,8,9,10,11,12,13,14,15,16,17,18,19,20]\n",
        "plt.xticks(x)\n",
        "plt.ylabel('total runs scored')\n",
        "fig=plt.gcf()\n",
        "fig.set_size_inches(16,8)\n",
        "plt.show()"
      ]
    },
    {
      "cell_type": "markdown",
      "metadata": {
        "_cell_guid": "aff5f46a-eeae-4766-abc4-4b13e54e6faf",
        "_uuid": "b7a598e7b451b3b6b182d6bf0c3be8b9ac24df12",
        "id": "4dhf0WtBNWQT"
      },
      "source": [
        "From this visualization we can say that we have to calculate the batting and bowling average of each team to calcuate the overall performance."
      ]
    },
    {
      "cell_type": "code",
      "execution_count": null,
      "metadata": {
        "_cell_guid": "7abc5d08-99a2-4c99-8c9e-d27614dc0859",
        "_uuid": "9f4b1ad9a4ecf1db21ace77906d97b81d210ed30",
        "scrolled": false,
        "colab": {
          "base_uri": "https://localhost:8080/",
          "height": 519
        },
        "id": "tSW1nIV7NWQU",
        "outputId": "ad16a09d-d053-4876-ea8e-9ff0c5f54546"
      },
      "outputs": [
        {
          "output_type": "execute_result",
          "data": {
            "text/plain": [
              "          match_id  Team_A_Batting_Average  Team_A_Bowling_Average  \\\n",
              "match_id                                                             \n",
              "1                1                    3.57               -0.250000   \n",
              "2                2                    2.82               -1.471429   \n",
              "3                3                    3.09               -2.064286   \n",
              "4                4                    2.59               -0.764286   \n",
              "5                5                    2.24                0.228571   \n",
              "...            ...                     ...                     ...   \n",
              "496            496                    3.18               -1.657143   \n",
              "497            497                    1.98               -0.378571   \n",
              "498            498                    3.21                0.085714   \n",
              "499            499                    2.06                0.171429   \n",
              "500            500                    1.82               -0.414286   \n",
              "\n",
              "          Team_A_Total_Runs  Team_B_Batting_Average  Team_B_Bowling_Average  \\\n",
              "match_id                                                                      \n",
              "1                       207                    2.54               -1.835714   \n",
              "2                       184                    3.25               -0.692857   \n",
              "3                       183                    3.13               -1.121429   \n",
              "4                       163                    2.48               -0.835714   \n",
              "5                       157                    1.96                0.042857   \n",
              "...                     ...                     ...                     ...   \n",
              "496                     205                    3.70               -1.314286   \n",
              "497                     141                    2.18                0.071429   \n",
              "498                     201                    1.84               -1.371429   \n",
              "499                     138                    1.89               -0.214286   \n",
              "500                     142                    2.40                0.271429   \n",
              "\n",
              "          Team_B_Total_Runs  Team_A_overall  Team_B_overall super_over  \n",
              "match_id                                                                \n",
              "1                       172        1.660000        0.352143          0  \n",
              "2                       187        0.674286        1.278571          0  \n",
              "3                       184        0.512857        1.004286          0  \n",
              "4                       164        0.912857        0.822143          0  \n",
              "5                       142        1.234286        1.001429          0  \n",
              "...                     ...             ...             ...        ...  \n",
              "496                     211        0.761429        1.192857          0  \n",
              "497                     142        0.800714        1.125714          0  \n",
              "498                     139        1.647857        0.234286          0  \n",
              "499                     142        1.115714        0.837857          0  \n",
              "500                     146        0.702857        1.335714          0  \n",
              "\n",
              "[499 rows x 10 columns]"
            ],
            "text/html": [
              "\n",
              "  <div id=\"df-a2cfe0ff-087a-45f7-a7c7-74cdaac0b998\">\n",
              "    <div class=\"colab-df-container\">\n",
              "      <div>\n",
              "<style scoped>\n",
              "    .dataframe tbody tr th:only-of-type {\n",
              "        vertical-align: middle;\n",
              "    }\n",
              "\n",
              "    .dataframe tbody tr th {\n",
              "        vertical-align: top;\n",
              "    }\n",
              "\n",
              "    .dataframe thead th {\n",
              "        text-align: right;\n",
              "    }\n",
              "</style>\n",
              "<table border=\"1\" class=\"dataframe\">\n",
              "  <thead>\n",
              "    <tr style=\"text-align: right;\">\n",
              "      <th></th>\n",
              "      <th>match_id</th>\n",
              "      <th>Team_A_Batting_Average</th>\n",
              "      <th>Team_A_Bowling_Average</th>\n",
              "      <th>Team_A_Total_Runs</th>\n",
              "      <th>Team_B_Batting_Average</th>\n",
              "      <th>Team_B_Bowling_Average</th>\n",
              "      <th>Team_B_Total_Runs</th>\n",
              "      <th>Team_A_overall</th>\n",
              "      <th>Team_B_overall</th>\n",
              "      <th>super_over</th>\n",
              "    </tr>\n",
              "    <tr>\n",
              "      <th>match_id</th>\n",
              "      <th></th>\n",
              "      <th></th>\n",
              "      <th></th>\n",
              "      <th></th>\n",
              "      <th></th>\n",
              "      <th></th>\n",
              "      <th></th>\n",
              "      <th></th>\n",
              "      <th></th>\n",
              "      <th></th>\n",
              "    </tr>\n",
              "  </thead>\n",
              "  <tbody>\n",
              "    <tr>\n",
              "      <th>1</th>\n",
              "      <td>1</td>\n",
              "      <td>3.57</td>\n",
              "      <td>-0.250000</td>\n",
              "      <td>207</td>\n",
              "      <td>2.54</td>\n",
              "      <td>-1.835714</td>\n",
              "      <td>172</td>\n",
              "      <td>1.660000</td>\n",
              "      <td>0.352143</td>\n",
              "      <td>0</td>\n",
              "    </tr>\n",
              "    <tr>\n",
              "      <th>2</th>\n",
              "      <td>2</td>\n",
              "      <td>2.82</td>\n",
              "      <td>-1.471429</td>\n",
              "      <td>184</td>\n",
              "      <td>3.25</td>\n",
              "      <td>-0.692857</td>\n",
              "      <td>187</td>\n",
              "      <td>0.674286</td>\n",
              "      <td>1.278571</td>\n",
              "      <td>0</td>\n",
              "    </tr>\n",
              "    <tr>\n",
              "      <th>3</th>\n",
              "      <td>3</td>\n",
              "      <td>3.09</td>\n",
              "      <td>-2.064286</td>\n",
              "      <td>183</td>\n",
              "      <td>3.13</td>\n",
              "      <td>-1.121429</td>\n",
              "      <td>184</td>\n",
              "      <td>0.512857</td>\n",
              "      <td>1.004286</td>\n",
              "      <td>0</td>\n",
              "    </tr>\n",
              "    <tr>\n",
              "      <th>4</th>\n",
              "      <td>4</td>\n",
              "      <td>2.59</td>\n",
              "      <td>-0.764286</td>\n",
              "      <td>163</td>\n",
              "      <td>2.48</td>\n",
              "      <td>-0.835714</td>\n",
              "      <td>164</td>\n",
              "      <td>0.912857</td>\n",
              "      <td>0.822143</td>\n",
              "      <td>0</td>\n",
              "    </tr>\n",
              "    <tr>\n",
              "      <th>5</th>\n",
              "      <td>5</td>\n",
              "      <td>2.24</td>\n",
              "      <td>0.228571</td>\n",
              "      <td>157</td>\n",
              "      <td>1.96</td>\n",
              "      <td>0.042857</td>\n",
              "      <td>142</td>\n",
              "      <td>1.234286</td>\n",
              "      <td>1.001429</td>\n",
              "      <td>0</td>\n",
              "    </tr>\n",
              "    <tr>\n",
              "      <th>...</th>\n",
              "      <td>...</td>\n",
              "      <td>...</td>\n",
              "      <td>...</td>\n",
              "      <td>...</td>\n",
              "      <td>...</td>\n",
              "      <td>...</td>\n",
              "      <td>...</td>\n",
              "      <td>...</td>\n",
              "      <td>...</td>\n",
              "      <td>...</td>\n",
              "    </tr>\n",
              "    <tr>\n",
              "      <th>496</th>\n",
              "      <td>496</td>\n",
              "      <td>3.18</td>\n",
              "      <td>-1.657143</td>\n",
              "      <td>205</td>\n",
              "      <td>3.70</td>\n",
              "      <td>-1.314286</td>\n",
              "      <td>211</td>\n",
              "      <td>0.761429</td>\n",
              "      <td>1.192857</td>\n",
              "      <td>0</td>\n",
              "    </tr>\n",
              "    <tr>\n",
              "      <th>497</th>\n",
              "      <td>497</td>\n",
              "      <td>1.98</td>\n",
              "      <td>-0.378571</td>\n",
              "      <td>141</td>\n",
              "      <td>2.18</td>\n",
              "      <td>0.071429</td>\n",
              "      <td>142</td>\n",
              "      <td>0.800714</td>\n",
              "      <td>1.125714</td>\n",
              "      <td>0</td>\n",
              "    </tr>\n",
              "    <tr>\n",
              "      <th>498</th>\n",
              "      <td>498</td>\n",
              "      <td>3.21</td>\n",
              "      <td>0.085714</td>\n",
              "      <td>201</td>\n",
              "      <td>1.84</td>\n",
              "      <td>-1.371429</td>\n",
              "      <td>139</td>\n",
              "      <td>1.647857</td>\n",
              "      <td>0.234286</td>\n",
              "      <td>0</td>\n",
              "    </tr>\n",
              "    <tr>\n",
              "      <th>499</th>\n",
              "      <td>499</td>\n",
              "      <td>2.06</td>\n",
              "      <td>0.171429</td>\n",
              "      <td>138</td>\n",
              "      <td>1.89</td>\n",
              "      <td>-0.214286</td>\n",
              "      <td>142</td>\n",
              "      <td>1.115714</td>\n",
              "      <td>0.837857</td>\n",
              "      <td>0</td>\n",
              "    </tr>\n",
              "    <tr>\n",
              "      <th>500</th>\n",
              "      <td>500</td>\n",
              "      <td>1.82</td>\n",
              "      <td>-0.414286</td>\n",
              "      <td>142</td>\n",
              "      <td>2.40</td>\n",
              "      <td>0.271429</td>\n",
              "      <td>146</td>\n",
              "      <td>0.702857</td>\n",
              "      <td>1.335714</td>\n",
              "      <td>0</td>\n",
              "    </tr>\n",
              "  </tbody>\n",
              "</table>\n",
              "<p>499 rows × 10 columns</p>\n",
              "</div>\n",
              "      <button class=\"colab-df-convert\" onclick=\"convertToInteractive('df-a2cfe0ff-087a-45f7-a7c7-74cdaac0b998')\"\n",
              "              title=\"Convert this dataframe to an interactive table.\"\n",
              "              style=\"display:none;\">\n",
              "        \n",
              "  <svg xmlns=\"http://www.w3.org/2000/svg\" height=\"24px\"viewBox=\"0 0 24 24\"\n",
              "       width=\"24px\">\n",
              "    <path d=\"M0 0h24v24H0V0z\" fill=\"none\"/>\n",
              "    <path d=\"M18.56 5.44l.94 2.06.94-2.06 2.06-.94-2.06-.94-.94-2.06-.94 2.06-2.06.94zm-11 1L8.5 8.5l.94-2.06 2.06-.94-2.06-.94L8.5 2.5l-.94 2.06-2.06.94zm10 10l.94 2.06.94-2.06 2.06-.94-2.06-.94-.94-2.06-.94 2.06-2.06.94z\"/><path d=\"M17.41 7.96l-1.37-1.37c-.4-.4-.92-.59-1.43-.59-.52 0-1.04.2-1.43.59L10.3 9.45l-7.72 7.72c-.78.78-.78 2.05 0 2.83L4 21.41c.39.39.9.59 1.41.59.51 0 1.02-.2 1.41-.59l7.78-7.78 2.81-2.81c.8-.78.8-2.07 0-2.86zM5.41 20L4 18.59l7.72-7.72 1.47 1.35L5.41 20z\"/>\n",
              "  </svg>\n",
              "      </button>\n",
              "      \n",
              "  <style>\n",
              "    .colab-df-container {\n",
              "      display:flex;\n",
              "      flex-wrap:wrap;\n",
              "      gap: 12px;\n",
              "    }\n",
              "\n",
              "    .colab-df-convert {\n",
              "      background-color: #E8F0FE;\n",
              "      border: none;\n",
              "      border-radius: 50%;\n",
              "      cursor: pointer;\n",
              "      display: none;\n",
              "      fill: #1967D2;\n",
              "      height: 32px;\n",
              "      padding: 0 0 0 0;\n",
              "      width: 32px;\n",
              "    }\n",
              "\n",
              "    .colab-df-convert:hover {\n",
              "      background-color: #E2EBFA;\n",
              "      box-shadow: 0px 1px 2px rgba(60, 64, 67, 0.3), 0px 1px 3px 1px rgba(60, 64, 67, 0.15);\n",
              "      fill: #174EA6;\n",
              "    }\n",
              "\n",
              "    [theme=dark] .colab-df-convert {\n",
              "      background-color: #3B4455;\n",
              "      fill: #D2E3FC;\n",
              "    }\n",
              "\n",
              "    [theme=dark] .colab-df-convert:hover {\n",
              "      background-color: #434B5C;\n",
              "      box-shadow: 0px 1px 3px 1px rgba(0, 0, 0, 0.15);\n",
              "      filter: drop-shadow(0px 1px 2px rgba(0, 0, 0, 0.3));\n",
              "      fill: #FFFFFF;\n",
              "    }\n",
              "  </style>\n",
              "\n",
              "      <script>\n",
              "        const buttonEl =\n",
              "          document.querySelector('#df-a2cfe0ff-087a-45f7-a7c7-74cdaac0b998 button.colab-df-convert');\n",
              "        buttonEl.style.display =\n",
              "          google.colab.kernel.accessAllowed ? 'block' : 'none';\n",
              "\n",
              "        async function convertToInteractive(key) {\n",
              "          const element = document.querySelector('#df-a2cfe0ff-087a-45f7-a7c7-74cdaac0b998');\n",
              "          const dataTable =\n",
              "            await google.colab.kernel.invokeFunction('convertToInteractive',\n",
              "                                                     [key], {});\n",
              "          if (!dataTable) return;\n",
              "\n",
              "          const docLinkHtml = 'Like what you see? Visit the ' +\n",
              "            '<a target=\"_blank\" href=https://colab.research.google.com/notebooks/data_table.ipynb>data table notebook</a>'\n",
              "            + ' to learn more about interactive tables.';\n",
              "          element.innerHTML = '';\n",
              "          dataTable['output_type'] = 'display_data';\n",
              "          await google.colab.output.renderOutput(dataTable, element);\n",
              "          const docLink = document.createElement('div');\n",
              "          docLink.innerHTML = docLinkHtml;\n",
              "          element.appendChild(docLink);\n",
              "        }\n",
              "      </script>\n",
              "    </div>\n",
              "  </div>\n",
              "  "
            ]
          },
          "metadata": {},
          "execution_count": 19
        }
      ],
      "source": [
        "def Batting_Averager(df):\n",
        "    over_average=pd.DataFrame()\n",
        "    overs=list(range(1, 21))\n",
        "    o_a=[]\n",
        "    o=pd.Series(overs)\n",
        "    over_average['overs']=o.values\n",
        "    for i in overs:\n",
        "        over_temp_frame=df.loc[df['over']== i]\n",
        "        total_bruns=over_temp_frame['bye_runs'].sum()\n",
        "        total_lbruns=over_temp_frame['legbye_runs'].sum()\n",
        "        b_non_zero=over_temp_frame.loc[over_temp_frame['batsman_runs'] != 0,\"batsman_runs\"].sum()\n",
        "        b_dot=over_temp_frame.loc[over_temp_frame['batsman_runs']==0,\"batsman_runs\"].count()\n",
        "        b_dis=over_temp_frame.loc[over_temp_frame['dismissal_kind'] != 'NaN',\"dismissal_kind\"].count()\n",
        "        oa=(1*total_bruns+1*total_lbruns+2*b_non_zero-1*b_dot+-3*b_dis)/5\n",
        "        o_a.append(oa)\n",
        "    o_a=pd.Series(o_a)\n",
        "    over_average['average']=o_a.values\n",
        "    bat_av=over_average[\"average\"].mean()\n",
        "    return bat_av\n",
        "    \n",
        "\n",
        "def Bowling_Averager(df):\n",
        "    over_average=pd.DataFrame()\n",
        "    overs=list(range(1, 21))\n",
        "    o_a=[]\n",
        "    o=pd.Series(overs)\n",
        "    over_average['overs']=o.values\n",
        "    for i in overs:\n",
        "        over_temp_frame=df.loc[df['over']== i]\n",
        "        total_wr=over_temp_frame['wide_runs'].sum()\n",
        "        total_nb=over_temp_frame['noball_runs'].sum()\n",
        "        total_pr=over_temp_frame['penalty_runs'].sum()\n",
        "        total_er=over_temp_frame['extra_runs'].sum()\n",
        "        b_non_zero=over_temp_frame.loc[over_temp_frame['total_runs'] != 0,\"total_runs\"].sum()\n",
        "        b_dot=over_temp_frame.loc[over_temp_frame['total_runs']==0,\"total_runs\"].count()\n",
        "        b_dis=over_temp_frame.loc[over_temp_frame['dismissal_kind'] != 'NaN',\"dismissal_kind\"].count()\n",
        "        oa=(-1*total_wr+-1*total_nb+-2*total_pr+-1*total_er+-2*b_non_zero+5*b_dot+10*b_dis)/7\n",
        "        o_a.append(oa)\n",
        "    o_a=pd.Series(o_a)\n",
        "    over_average['average']=o_a.values\n",
        "    bow_av=over_average[\"average\"].mean()\n",
        "    return(bow_av)\n",
        "\n",
        "\n",
        "\n",
        "#creating team_performance dataframe\n",
        "team_performance=pd.DataFrame()\n",
        "team_performance[\"match_id\"]=TRM[\"id\"]\n",
        "team_performance.index=team_performance[\"match_id\"]\n",
        "team_performance[\"Team_A_Batting_Average\"]=0.0\n",
        "team_performance[\"Team_A_Bowling_Average\"]=0.0\n",
        "team_performance[\"Team_A_Total_Runs\"]=0\n",
        "team_performance[\"Team_B_Batting_Average\"]=0.0\n",
        "team_performance[\"Team_B_Bowling_Average\"]=0.0\n",
        "team_performance[\"Team_B_Total_Runs\"]=0\n",
        "team_performance[\"Team_A_overall\"]=0.0\n",
        "team_performance[\"Team_B_overall\"]=0.0\n",
        "team_performance[\"super_over\"]='0'\n",
        "\n",
        "# creating match_id list\n",
        "match_id_list=TRM[\"id\"].unique()\n",
        "overs_list=[1,2,3,4,5,6,7,8,9,10,11,12,13,14,15,16,17,18,19,20]\n",
        "\n",
        "\n",
        "for m in match_id_list:\n",
        "    match_frame=TRD.loc[TRD[\"match_id\"]==m]\n",
        "    temp=FT.loc[m,\"Team A\":\"Team B\"]\n",
        "    team_dict=temp.to_dict()\n",
        "    FLAG=False\n",
        "    team_perform_dict={\"match_id\":m,\"Team_A_Batting_Average\":0.0,\"Team_A_Bowling_Average\":0.0,\"Team_A_Total_Runs\":0,\"Team_B_Batting_Average\":0.0,\"Team_B_Bowling_Average\":0.0,\"Team_B_Total_Runs\":0,\"Team_A_overall\":0.0,\"Team_B_overall\":0.0,\"super_over\":'0'}\n",
        "    super_over=match_frame['is_super_over'].sum()\n",
        "    \n",
        "    if super_over==0:\n",
        "        innings=match_frame[\"inning\"].unique()\n",
        "        super_over_innings=[]\n",
        "    else :\n",
        "        super_over_run={\"Team_A_run\":0,\"Team_B_run\":0}\n",
        "        FLAG=True\n",
        "        super_over_innings=[3,4]\n",
        "    \n",
        "    for i in innings:\n",
        "        innings_frame=pd.DataFrame()\n",
        "        innings_frame=match_frame.loc[match_frame['inning'] == i]\n",
        "        batting_team=innings_frame.loc[innings_frame['inning']== i,\"batting_team\"].values[0]\n",
        "        bowling_team=innings_frame.loc[innings_frame['inning']== i,\"bowling_team\"].values[0]\n",
        "        \n",
        "        if(team_dict['Team A']==batting_team):\n",
        "            batting_team_frame=innings_frame[['over','ball','bye_runs','legbye_runs','batsman_runs','dismissal_kind']]\n",
        "            bowling_team_frame=innings_frame[['over','ball','wide_runs','noball_runs','penalty_runs','extra_runs','total_runs','dismissal_kind']]\n",
        "            team_perform_dict[\"Team_A_Batting_Average\"]=Batting_Averager(batting_team_frame)\n",
        "            team_perform_dict[\"Team_B_Bowling_Average\"]=Bowling_Averager(bowling_team_frame)\n",
        "            team_perform_dict[\"Team_A_Total_Runs\"] =innings_frame['total_runs'].sum()\n",
        "            \n",
        "        elif(team_dict['Team B']==batting_team):\n",
        "            batting_team_frame=innings_frame[['over','ball','bye_runs','legbye_runs','batsman_runs','dismissal_kind']]\n",
        "            bowling_team_frame=innings_frame[['over','ball','wide_runs','noball_runs','penalty_runs','extra_runs','total_runs','dismissal_kind']]\n",
        "            team_perform_dict[\"Team_B_Batting_Average\"]=Batting_Averager(batting_team_frame)\n",
        "            team_perform_dict[\"Team_A_Bowling_Average\"]=Bowling_Averager(bowling_team_frame)\n",
        "            team_perform_dict[\"Team_B_Total_Runs\"]=innings_frame['total_runs'].sum()\n",
        "        \n",
        "    for i in super_over_innings:\n",
        "        innings_frame=pd.DataFrame()\n",
        "        innings_frame=match_frame.loc[match_frame['inning']==i]\n",
        "        batting_team=innings_frame.loc[innings_frame['inning']== i,\"batting_team\"].values[0]\n",
        "        if(team_dict['Team A']==batting_team):\n",
        "            super_over_run[\"Team_A_run\"]=innings_frame['total_runs'].sum()\n",
        "        elif(team_dict['Team B']==batting_team):\n",
        "            super_over_run[\"Team_B_run\"]=innings_frame['total_runs'].sum()\n",
        "\n",
        "    if FLAG:\n",
        "        if super_over_run[\"Team_A_run\"]>super_over_run[\"Team_B_run\"]:\n",
        "            team_perform_dict['super_over']='A'\n",
        "        elif super_over_run[\"Team_B_run\"]>super_over_run[\"Team_A_run\"]:\n",
        "            team_perform_dict['super_over']='B'\n",
        "            \n",
        "    team_perform_dict[\"Team_A_overall\"]=(team_perform_dict[\"Team_A_Batting_Average\"]+team_perform_dict[\"Team_A_Bowling_Average\"])/2\n",
        "    team_perform_dict[\"Team_B_overall\"]=(team_perform_dict[\"Team_B_Batting_Average\"]+team_perform_dict[\"Team_B_Bowling_Average\"])/2\n",
        "\n",
        "    \n",
        "    df=pd.DataFrame([team_perform_dict],columns=team_perform_dict.keys())\n",
        "    df.index=df[\"match_id\"]\n",
        "    match=df[\"match_id\"].unique()\n",
        "    team_performance.loc[match,:]= df.loc[df[\"match_id\"],:]\n",
        "    \n",
        "\n",
        "team_performance"
      ]
    },
    {
      "cell_type": "markdown",
      "metadata": {
        "_cell_guid": "10e69b02-4451-4bc8-9b05-fc2e77a108fa",
        "_uuid": "12af9408bdea28cc7ca3fddc11b32d5aa401074c",
        "id": "1f8mCkSsNWQU"
      },
      "source": [
        "**  PLAYER OF EACH MATCH **"
      ]
    },
    {
      "cell_type": "markdown",
      "metadata": {
        "_cell_guid": "335a18ca-137d-4921-84ba-11412482d2aa",
        "_uuid": "0ad3f23d9a5699944ec1812d00a74a6d37fc010a",
        "id": "w-fa5cZXNWQV"
      },
      "source": [
        "Player of the match will be the one who denots the extraordinary work and most probably they belong to the winning team .So we may consider to enhance our model. However, looking at some of the data, this player looks to be NOT_IN_TEAM and hence should be ignored"
      ]
    },
    {
      "cell_type": "code",
      "execution_count": null,
      "metadata": {
        "_cell_guid": "ddacc058-fbc6-452b-aeac-a27269e78fb0",
        "_uuid": "e51209fc1f565f45acd741643b87da295775b0a8",
        "colab": {
          "base_uri": "https://localhost:8080/",
          "height": 455
        },
        "id": "j_SG6TX4NWQV",
        "outputId": "1caa45f1-32c5-4e19-d00e-48d20528ace3"
      },
      "outputs": [
        {
          "output_type": "execute_result",
          "data": {
            "text/plain": [
              "          match_id man_of_match\n",
              "match_id                       \n",
              "1                1            A\n",
              "2                2            B\n",
              "3                3            B\n",
              "4                4  NOT_IN_TEAM\n",
              "5                5  NOT_IN_TEAM\n",
              "...            ...          ...\n",
              "496            496  NOT_IN_TEAM\n",
              "497            497  NOT_IN_TEAM\n",
              "498            498  NOT_IN_TEAM\n",
              "499            499  NOT_IN_TEAM\n",
              "500            500  NOT_IN_TEAM\n",
              "\n",
              "[499 rows x 2 columns]"
            ],
            "text/html": [
              "\n",
              "  <div id=\"df-fccc87b8-9852-4caa-ad33-11e0cdefa452\">\n",
              "    <div class=\"colab-df-container\">\n",
              "      <div>\n",
              "<style scoped>\n",
              "    .dataframe tbody tr th:only-of-type {\n",
              "        vertical-align: middle;\n",
              "    }\n",
              "\n",
              "    .dataframe tbody tr th {\n",
              "        vertical-align: top;\n",
              "    }\n",
              "\n",
              "    .dataframe thead th {\n",
              "        text-align: right;\n",
              "    }\n",
              "</style>\n",
              "<table border=\"1\" class=\"dataframe\">\n",
              "  <thead>\n",
              "    <tr style=\"text-align: right;\">\n",
              "      <th></th>\n",
              "      <th>match_id</th>\n",
              "      <th>man_of_match</th>\n",
              "    </tr>\n",
              "    <tr>\n",
              "      <th>match_id</th>\n",
              "      <th></th>\n",
              "      <th></th>\n",
              "    </tr>\n",
              "  </thead>\n",
              "  <tbody>\n",
              "    <tr>\n",
              "      <th>1</th>\n",
              "      <td>1</td>\n",
              "      <td>A</td>\n",
              "    </tr>\n",
              "    <tr>\n",
              "      <th>2</th>\n",
              "      <td>2</td>\n",
              "      <td>B</td>\n",
              "    </tr>\n",
              "    <tr>\n",
              "      <th>3</th>\n",
              "      <td>3</td>\n",
              "      <td>B</td>\n",
              "    </tr>\n",
              "    <tr>\n",
              "      <th>4</th>\n",
              "      <td>4</td>\n",
              "      <td>NOT_IN_TEAM</td>\n",
              "    </tr>\n",
              "    <tr>\n",
              "      <th>5</th>\n",
              "      <td>5</td>\n",
              "      <td>NOT_IN_TEAM</td>\n",
              "    </tr>\n",
              "    <tr>\n",
              "      <th>...</th>\n",
              "      <td>...</td>\n",
              "      <td>...</td>\n",
              "    </tr>\n",
              "    <tr>\n",
              "      <th>496</th>\n",
              "      <td>496</td>\n",
              "      <td>NOT_IN_TEAM</td>\n",
              "    </tr>\n",
              "    <tr>\n",
              "      <th>497</th>\n",
              "      <td>497</td>\n",
              "      <td>NOT_IN_TEAM</td>\n",
              "    </tr>\n",
              "    <tr>\n",
              "      <th>498</th>\n",
              "      <td>498</td>\n",
              "      <td>NOT_IN_TEAM</td>\n",
              "    </tr>\n",
              "    <tr>\n",
              "      <th>499</th>\n",
              "      <td>499</td>\n",
              "      <td>NOT_IN_TEAM</td>\n",
              "    </tr>\n",
              "    <tr>\n",
              "      <th>500</th>\n",
              "      <td>500</td>\n",
              "      <td>NOT_IN_TEAM</td>\n",
              "    </tr>\n",
              "  </tbody>\n",
              "</table>\n",
              "<p>499 rows × 2 columns</p>\n",
              "</div>\n",
              "      <button class=\"colab-df-convert\" onclick=\"convertToInteractive('df-fccc87b8-9852-4caa-ad33-11e0cdefa452')\"\n",
              "              title=\"Convert this dataframe to an interactive table.\"\n",
              "              style=\"display:none;\">\n",
              "        \n",
              "  <svg xmlns=\"http://www.w3.org/2000/svg\" height=\"24px\"viewBox=\"0 0 24 24\"\n",
              "       width=\"24px\">\n",
              "    <path d=\"M0 0h24v24H0V0z\" fill=\"none\"/>\n",
              "    <path d=\"M18.56 5.44l.94 2.06.94-2.06 2.06-.94-2.06-.94-.94-2.06-.94 2.06-2.06.94zm-11 1L8.5 8.5l.94-2.06 2.06-.94-2.06-.94L8.5 2.5l-.94 2.06-2.06.94zm10 10l.94 2.06.94-2.06 2.06-.94-2.06-.94-.94-2.06-.94 2.06-2.06.94z\"/><path d=\"M17.41 7.96l-1.37-1.37c-.4-.4-.92-.59-1.43-.59-.52 0-1.04.2-1.43.59L10.3 9.45l-7.72 7.72c-.78.78-.78 2.05 0 2.83L4 21.41c.39.39.9.59 1.41.59.51 0 1.02-.2 1.41-.59l7.78-7.78 2.81-2.81c.8-.78.8-2.07 0-2.86zM5.41 20L4 18.59l7.72-7.72 1.47 1.35L5.41 20z\"/>\n",
              "  </svg>\n",
              "      </button>\n",
              "      \n",
              "  <style>\n",
              "    .colab-df-container {\n",
              "      display:flex;\n",
              "      flex-wrap:wrap;\n",
              "      gap: 12px;\n",
              "    }\n",
              "\n",
              "    .colab-df-convert {\n",
              "      background-color: #E8F0FE;\n",
              "      border: none;\n",
              "      border-radius: 50%;\n",
              "      cursor: pointer;\n",
              "      display: none;\n",
              "      fill: #1967D2;\n",
              "      height: 32px;\n",
              "      padding: 0 0 0 0;\n",
              "      width: 32px;\n",
              "    }\n",
              "\n",
              "    .colab-df-convert:hover {\n",
              "      background-color: #E2EBFA;\n",
              "      box-shadow: 0px 1px 2px rgba(60, 64, 67, 0.3), 0px 1px 3px 1px rgba(60, 64, 67, 0.15);\n",
              "      fill: #174EA6;\n",
              "    }\n",
              "\n",
              "    [theme=dark] .colab-df-convert {\n",
              "      background-color: #3B4455;\n",
              "      fill: #D2E3FC;\n",
              "    }\n",
              "\n",
              "    [theme=dark] .colab-df-convert:hover {\n",
              "      background-color: #434B5C;\n",
              "      box-shadow: 0px 1px 3px 1px rgba(0, 0, 0, 0.15);\n",
              "      filter: drop-shadow(0px 1px 2px rgba(0, 0, 0, 0.3));\n",
              "      fill: #FFFFFF;\n",
              "    }\n",
              "  </style>\n",
              "\n",
              "      <script>\n",
              "        const buttonEl =\n",
              "          document.querySelector('#df-fccc87b8-9852-4caa-ad33-11e0cdefa452 button.colab-df-convert');\n",
              "        buttonEl.style.display =\n",
              "          google.colab.kernel.accessAllowed ? 'block' : 'none';\n",
              "\n",
              "        async function convertToInteractive(key) {\n",
              "          const element = document.querySelector('#df-fccc87b8-9852-4caa-ad33-11e0cdefa452');\n",
              "          const dataTable =\n",
              "            await google.colab.kernel.invokeFunction('convertToInteractive',\n",
              "                                                     [key], {});\n",
              "          if (!dataTable) return;\n",
              "\n",
              "          const docLinkHtml = 'Like what you see? Visit the ' +\n",
              "            '<a target=\"_blank\" href=https://colab.research.google.com/notebooks/data_table.ipynb>data table notebook</a>'\n",
              "            + ' to learn more about interactive tables.';\n",
              "          element.innerHTML = '';\n",
              "          dataTable['output_type'] = 'display_data';\n",
              "          await google.colab.output.renderOutput(dataTable, element);\n",
              "          const docLink = document.createElement('div');\n",
              "          docLink.innerHTML = docLinkHtml;\n",
              "          element.appendChild(docLink);\n",
              "        }\n",
              "      </script>\n",
              "    </div>\n",
              "  </div>\n",
              "  "
            ]
          },
          "metadata": {},
          "execution_count": 20
        }
      ],
      "source": [
        "player_match_frame=pd.DataFrame()\n",
        "player_match_frame[\"match_id\"]=TRM[\"id\"]\n",
        "player_match_frame.index=player_match_frame[\"match_id\"]\n",
        "player_match_frame[\"man_of_match\"]='NOT_IN_TEAM'\n",
        "match_id_list=TRM[\"id\"].unique()\n",
        "\n",
        "for m in match_id_list:\n",
        "    player=TRM.loc[TRM['id']== m,\"player_of_match\"].values[0]\n",
        "    match_frame=TRD.loc[TRD[\"match_id\"]==m]\n",
        "    temp=FT.loc[m,\"Team A\":\"Team B\"]\n",
        "    team_dict=temp.to_dict()\n",
        "    TEAM_A_BATSMAN=match_frame.loc[match_frame['batting_team']==team_dict[\"Team A\"],[\"batsman\",\"non_striker\"]]\n",
        "    TEAM_A_BOWLERS=match_frame.loc[match_frame['bowling_team']==team_dict[\"Team A\"],[\"bowler\"]]\n",
        "    TEAM_A_MEMBERS=set(list(TEAM_A_BATSMAN[\"batsman\"].unique())+list(TEAM_A_BATSMAN[\"non_striker\"].unique())+list(TEAM_A_BOWLERS[\"bowler\"].unique()))\n",
        "    TEAM_B_BATSMAN=match_frame.loc[match_frame['batting_team']==team_dict[\"Team B\"],[\"batsman\",\"non_striker\"]]\n",
        "    TEAM_B_BOWLERS=match_frame.loc[match_frame['bowling_team']==team_dict[\"Team B\"],[\"bowler\"]]\n",
        "    TEAM_B_MEMBERS=set(list(TEAM_B_BATSMAN[\"batsman\"].unique())+list(TEAM_B_BATSMAN[\"non_striker\"].unique())+list(TEAM_B_BOWLERS[\"bowler\"].unique()))\n",
        "    if player in TEAM_A_MEMBERS:\n",
        "        player_match_frame.at[m, 'man_of_match'] = 'A'\n",
        "    elif player in TEAM_B_MEMBERS:\n",
        "        player_match_frame.at[m,\"man_of_match\"]='B'\n",
        "player_match_frame\n",
        "\n"
      ]
    },
    {
      "cell_type": "code",
      "execution_count": null,
      "metadata": {
        "colab": {
          "base_uri": "https://localhost:8080/"
        },
        "id": "1IINH9aHNWQV",
        "outputId": "466fa6d2-af2f-4bc0-84ed-29ae3b658589"
      },
      "outputs": [
        {
          "output_type": "execute_result",
          "data": {
            "text/plain": [
              "(37, 2)"
            ]
          },
          "metadata": {},
          "execution_count": 21
        }
      ],
      "source": [
        "# Identify how many matches had man of match from the two playing teams\n",
        "player_match_frame[player_match_frame['man_of_match'] != \"NOT_IN_TEAM\"].shape"
      ]
    },
    {
      "cell_type": "markdown",
      "metadata": {
        "_cell_guid": "ebd922dc-6aa6-48cd-8c4d-fde7058366d3",
        "_uuid": "0f9e02a1b7b36da33374c5b8cc6bb4a8a5d4a477",
        "id": "V2ddemEeNWQV"
      },
      "source": [
        "From this analytics we can infer that player_of_match given in TrainMatchesdataset is not from the two teams and hence can be neglected as a feature"
      ]
    },
    {
      "cell_type": "markdown",
      "metadata": {
        "_cell_guid": "13c2a812-0d87-4232-8737-b710a81e1440",
        "_uuid": "21d5e7745a71e01ee081cfc95c7cfb638c054144",
        "id": "p88SqXmhNWQV"
      },
      "source": [
        "** PREPARATION OF FEATURE TABLE **"
      ]
    },
    {
      "cell_type": "code",
      "execution_count": null,
      "metadata": {
        "_cell_guid": "14195dd6-ad52-4942-b67e-303854911f2f",
        "_uuid": "3ddc20fad6c50818abd841ce50f4add66d3c2f55",
        "id": "GUVeOFiNNWQW"
      },
      "outputs": [],
      "source": [
        "def df_feature(TRM,TRD,T):\n",
        "    # Creating Feature Table\n",
        "    F_T=pd.DataFrame()\n",
        "\n",
        "    # Making match_id as the index\n",
        "    F_T[\"match_id\"]=TRM[\"id\"]\n",
        "    F_T.index=F_T[\"match_id\"]\n",
        "\n",
        "    # Adding Team Deatils\n",
        "    F_T[\"Team A\"]=TRM[\"team1\"]\n",
        "    F_T[\"Team B\"]=TRM[\"team2\"]\n",
        "\n",
        "    # Adding Season Feature\n",
        "    F_T[\"season\"]=TRM[\"season\"]\n",
        "\n",
        "    # Adding Toss Winner Feature\n",
        "    F_T[\"toss_winner\"]=TRM[\"toss_winner\"]\n",
        "\n",
        "    # Adding dl feature\n",
        "    F_T[\"dl_applied\"]=TRM[\"dl_applied\"]\n",
        "    \n",
        "    #Adding cross validation features\n",
        "    #creating team_performance dataframe\n",
        "    team_performance=pd.DataFrame()\n",
        "    team_performance[\"match_id\"]=TRM[\"id\"]\n",
        "    team_performance.index=team_performance[\"match_id\"]\n",
        "    team_performance[\"Team_A_Batting_Average\"]=0.0\n",
        "    team_performance[\"Team_A_Bowling_Average\"]=0.0\n",
        "    team_performance[\"Team_A_Total_Runs\"]=0.0\n",
        "    team_performance[\"Team_B_Batting_Average\"]=0.0\n",
        "    team_performance[\"Team_B_Bowling_Average\"]=0.0\n",
        "    team_performance[\"Team_B_Total_Runs\"]=0.0\n",
        "    team_performance[\"Team_A_overall\"]=0.0\n",
        "    team_performance[\"Team_B_overall\"]=0.0\n",
        "    team_performance[\"super_over\"]='0'\n",
        "\n",
        "    # creating match_id list\n",
        "    match_id_list=TRM[\"id\"].unique()\n",
        "    overs_list=[1,2,3,4,5,6,7,8,9,10,11,12,13,14,15,16,17,18,19,20]\n",
        "\n",
        "\n",
        "    for m in match_id_list:\n",
        "        match_frame=TRD.loc[TRD[\"match_id\"]==m]\n",
        "        temp=F_T.loc[m,\"Team A\":\"Team B\"]\n",
        "        team_dict=temp.to_dict()\n",
        "        FLAG=False\n",
        "        team_perform_dict={\"match_id\":m,\"Team_A_Batting_Average\":0.0,\"Team_A_Bowling_Average\":0.0,\"Team_A_Total_Runs\":0,\"Team_B_Batting_Average\":0.0,\"Team_B_Bowling_Average\":0.0,\"Team_B_Total_Runs\":0,\"Team_A_overall\":0.0,\"Team_B_overall\":0.0,\"super_over\":0}\n",
        "        super_over=match_frame['is_super_over'].sum()\n",
        "    \n",
        "        if super_over==0:\n",
        "            innings=match_frame[\"inning\"].unique()\n",
        "            super_over_innings=[]\n",
        "        else :\n",
        "            super_over_run={\"Team_A_run\":0,\"Team_B_run\":0}\n",
        "            FLAG=True\n",
        "            super_over_innings=[3,4]\n",
        "    \n",
        "        for i in innings:\n",
        "            innings_frame=pd.DataFrame()\n",
        "            innings_frame=match_frame.loc[match_frame['inning'] == i]\n",
        "            batting_team=innings_frame.loc[innings_frame['inning']== i,\"batting_team\"].values[0]\n",
        "            bowling_team=innings_frame.loc[innings_frame['inning']== i,\"bowling_team\"].values[0]\n",
        "        \n",
        "            if(team_dict['Team A']==batting_team):\n",
        "                batting_team_frame=innings_frame[['over','ball','bye_runs','legbye_runs','batsman_runs','dismissal_kind']]\n",
        "                bowling_team_frame=innings_frame[['over','ball','wide_runs','noball_runs','penalty_runs','extra_runs','total_runs','dismissal_kind']]\n",
        "                team_perform_dict[\"Team_A_Batting_Average\"]=Batting_Averager(batting_team_frame)\n",
        "                team_perform_dict[\"Team_B_Bowling_Average\"]=Bowling_Averager(bowling_team_frame)\n",
        "                team_perform_dict[\"Team_A_Total_Runs\"] =innings_frame['total_runs'].sum()\n",
        "            \n",
        "            elif(team_dict['Team B']==batting_team):\n",
        "                batting_team_frame=innings_frame[['over','ball','bye_runs','legbye_runs','batsman_runs','dismissal_kind']]\n",
        "                bowling_team_frame=innings_frame[['over','ball','wide_runs','noball_runs','penalty_runs','extra_runs','total_runs','dismissal_kind']]\n",
        "                team_perform_dict[\"Team_B_Batting_Average\"]=Batting_Averager(batting_team_frame)\n",
        "                team_perform_dict[\"Team_A_Bowling_Average\"]=Bowling_Averager(bowling_team_frame)\n",
        "                team_perform_dict[\"Team_B_Total_Runs\"] =innings_frame['total_runs'].sum()\n",
        "        \n",
        "        for i in super_over_innings:\n",
        "            innings_frame=pd.DataFrame()\n",
        "            innings_frame=match_frame.loc[match_frame['inning']==i]\n",
        "            batting_team=innings_frame.loc[innings_frame['inning']== i,\"batting_team\"].values[0]\n",
        "            if(team_dict['Team A']==batting_team):\n",
        "                super_over_run[\"Team_A_run\"]=innings_frame['total_runs'].sum()\n",
        "            elif(team_dict['Team B']==batting_team):\n",
        "                super_over_run[\"Team_B_run\"]=innings_frame['total_runs'].sum()\n",
        "\n",
        "        if FLAG:\n",
        "            if super_over_run[\"Team_A_run\"]>super_over_run[\"Team_B_run\"]:\n",
        "                team_perform_dict['super_over']=1\n",
        "            elif super_over_run[\"Team_B_run\"]>super_over_run[\"Team_A_run\"]:\n",
        "                team_perform_dict['super_over']=2\n",
        "            \n",
        "        team_perform_dict[\"Team_A_overall\"]=(team_perform_dict[\"Team_A_Batting_Average\"]+team_perform_dict[\"Team_A_Bowling_Average\"])/2\n",
        "        team_perform_dict[\"Team_B_overall\"]=(team_perform_dict[\"Team_B_Batting_Average\"]+team_perform_dict[\"Team_B_Bowling_Average\"])/2\n",
        "\n",
        "    \n",
        "        df=pd.DataFrame([team_perform_dict],columns=team_perform_dict.keys())\n",
        "        df.index=df[\"match_id\"]\n",
        "        match=df[\"match_id\"].unique()\n",
        "        team_performance.loc[match,:]= df.loc[df[\"match_id\"],:]\n",
        "        \n",
        "    F_T[\"Team_A_Batting_Average\"]=team_performance[\"Team_A_Batting_Average\"]\n",
        "    F_T[\"Team_A_Bowling_Average\"]=team_performance[\"Team_A_Bowling_Average\"]\n",
        "    F_T[\"Team_A_Total_Runs\"]=team_performance[\"Team_A_Total_Runs\"]\n",
        "    F_T[\"Team_B_Batting_Average\"]=team_performance[\"Team_B_Batting_Average\"]\n",
        "    F_T[\"Team_B_Bowling_Average\"]=team_performance[\"Team_B_Bowling_Average\"]\n",
        "    F_T[\"Team_B_Total_Runs\"]=team_performance[\"Team_B_Total_Runs\"]\n",
        "    F_T[\"Team_A_overall\"]=team_performance[\"Team_A_overall\"]\n",
        "    F_T[\"Team_B_overall\"]=team_performance[\"Team_B_overall\"]\n",
        "    F_T[\"super_over\"]=team_performance[\"super_over\"]\n",
        "    \n",
        "    if(T):\n",
        "        #Winner Field\n",
        "        winner_frame=pd.DataFrame()\n",
        "        winner_frame[\"match_id\"]=TRM[\"id\"]\n",
        "        winner_frame.index=winner_frame[\"match_id\"]\n",
        "        winner_frame[\"winner\"]=0\n",
        "        match_id_list=TRM[\"id\"].unique()\n",
        "\n",
        "        for m in match_id_list:\n",
        "            winner=TRM.loc[TRM['id']== m,\"winner\"].values[0]\n",
        "            temp=F_T.loc[m,\"Team A\":\"Team B\"]\n",
        "            team_dict=temp.to_dict()\n",
        "            if(winner==team_dict[\"Team A\"]):\n",
        "                winner_frame.at[m, 'winner'] = 0\n",
        "            elif(winner==team_dict[\"Team B\"]):\n",
        "                winner_frame.at[m,'winner']=1\n",
        "            \n",
        "        #Adding Winner Field to F_T\n",
        "        F_T[\"winner\"]=winner_frame[\"winner\"]\n",
        "        \n",
        "    return F_T\n",
        "        \n"
      ]
    },
    {
      "cell_type": "code",
      "execution_count": null,
      "metadata": {
        "_cell_guid": "5ca38097-9189-4809-9bbb-5fddcee4832d",
        "_uuid": "547455460526eeaf20ac14d128d2163bb09ed800",
        "id": "Ypz_gW7jNWQW"
      },
      "outputs": [],
      "source": [
        "T=True\n",
        "train=df_feature(TRM,TRD,T)"
      ]
    },
    {
      "cell_type": "code",
      "execution_count": null,
      "metadata": {
        "_cell_guid": "2419c96b-a1ae-40d3-81aa-f74f80e9c8af",
        "_uuid": "d2bbf9df02280fac8f2b463fde8900313aba4463",
        "colab": {
          "base_uri": "https://localhost:8080/",
          "height": 536
        },
        "id": "j1S4exPZNWQW",
        "outputId": "ccddc79c-f26f-4e05-ed74-3737c0bdb863"
      },
      "outputs": [
        {
          "output_type": "execute_result",
          "data": {
            "text/plain": [
              "          match_id  Team A Team B  season toss_winner  dl_applied  \\\n",
              "match_id                                                            \n",
              "1                1   Team1  Team5    2017       Team5           0   \n",
              "2                2   Team2  Team4    2017       Team4           0   \n",
              "3                3   Team3  Team6    2017       Team6           0   \n",
              "4                4   Team4  Team8    2017       Team8           0   \n",
              "5                5   Team5  Team7    2017       Team5           0   \n",
              "...            ...     ...    ...     ...         ...         ...   \n",
              "496            496   Team1  Team8    2014       Team8           0   \n",
              "497            497   Team2  Team6    2014       Team6           0   \n",
              "498            498   Team9  Team7    2014       Team7           0   \n",
              "499            499  Team10  Team5    2014      Team10           0   \n",
              "500            500   Team1  Team6    2014       Team1           0   \n",
              "\n",
              "          Team_A_Batting_Average  Team_A_Bowling_Average  Team_A_Total_Runs  \\\n",
              "match_id                                                                      \n",
              "1                           3.57               -0.250000              207.0   \n",
              "2                           2.82               -1.471429              184.0   \n",
              "3                           3.09               -2.064286              183.0   \n",
              "4                           2.59               -0.764286              163.0   \n",
              "5                           2.24                0.228571              157.0   \n",
              "...                          ...                     ...                ...   \n",
              "496                         3.18               -1.657143              205.0   \n",
              "497                         1.98               -0.378571              141.0   \n",
              "498                         3.21                0.085714              201.0   \n",
              "499                         2.06                0.171429              138.0   \n",
              "500                         1.82               -0.414286              142.0   \n",
              "\n",
              "          Team_B_Batting_Average  Team_B_Bowling_Average  Team_B_Total_Runs  \\\n",
              "match_id                                                                      \n",
              "1                           2.54               -1.835714              172.0   \n",
              "2                           3.25               -0.692857              187.0   \n",
              "3                           3.13               -1.121429              184.0   \n",
              "4                           2.48               -0.835714              164.0   \n",
              "5                           1.96                0.042857              142.0   \n",
              "...                          ...                     ...                ...   \n",
              "496                         3.70               -1.314286              211.0   \n",
              "497                         2.18                0.071429              142.0   \n",
              "498                         1.84               -1.371429              139.0   \n",
              "499                         1.89               -0.214286              142.0   \n",
              "500                         2.40                0.271429              146.0   \n",
              "\n",
              "          Team_A_overall  Team_B_overall super_over  winner  \n",
              "match_id                                                     \n",
              "1               1.660000        0.352143          0       0  \n",
              "2               0.674286        1.278571          0       1  \n",
              "3               0.512857        1.004286          0       1  \n",
              "4               0.912857        0.822143          0       1  \n",
              "5               1.234286        1.001429          0       0  \n",
              "...                  ...             ...        ...     ...  \n",
              "496             0.761429        1.192857          0       1  \n",
              "497             0.800714        1.125714          0       1  \n",
              "498             1.647857        0.234286          0       0  \n",
              "499             1.115714        0.837857          0       1  \n",
              "500             0.702857        1.335714          0       1  \n",
              "\n",
              "[499 rows x 16 columns]"
            ],
            "text/html": [
              "\n",
              "  <div id=\"df-57fd9160-2cad-4cb1-ba0c-05e7d7d2141c\">\n",
              "    <div class=\"colab-df-container\">\n",
              "      <div>\n",
              "<style scoped>\n",
              "    .dataframe tbody tr th:only-of-type {\n",
              "        vertical-align: middle;\n",
              "    }\n",
              "\n",
              "    .dataframe tbody tr th {\n",
              "        vertical-align: top;\n",
              "    }\n",
              "\n",
              "    .dataframe thead th {\n",
              "        text-align: right;\n",
              "    }\n",
              "</style>\n",
              "<table border=\"1\" class=\"dataframe\">\n",
              "  <thead>\n",
              "    <tr style=\"text-align: right;\">\n",
              "      <th></th>\n",
              "      <th>match_id</th>\n",
              "      <th>Team A</th>\n",
              "      <th>Team B</th>\n",
              "      <th>season</th>\n",
              "      <th>toss_winner</th>\n",
              "      <th>dl_applied</th>\n",
              "      <th>Team_A_Batting_Average</th>\n",
              "      <th>Team_A_Bowling_Average</th>\n",
              "      <th>Team_A_Total_Runs</th>\n",
              "      <th>Team_B_Batting_Average</th>\n",
              "      <th>Team_B_Bowling_Average</th>\n",
              "      <th>Team_B_Total_Runs</th>\n",
              "      <th>Team_A_overall</th>\n",
              "      <th>Team_B_overall</th>\n",
              "      <th>super_over</th>\n",
              "      <th>winner</th>\n",
              "    </tr>\n",
              "    <tr>\n",
              "      <th>match_id</th>\n",
              "      <th></th>\n",
              "      <th></th>\n",
              "      <th></th>\n",
              "      <th></th>\n",
              "      <th></th>\n",
              "      <th></th>\n",
              "      <th></th>\n",
              "      <th></th>\n",
              "      <th></th>\n",
              "      <th></th>\n",
              "      <th></th>\n",
              "      <th></th>\n",
              "      <th></th>\n",
              "      <th></th>\n",
              "      <th></th>\n",
              "      <th></th>\n",
              "    </tr>\n",
              "  </thead>\n",
              "  <tbody>\n",
              "    <tr>\n",
              "      <th>1</th>\n",
              "      <td>1</td>\n",
              "      <td>Team1</td>\n",
              "      <td>Team5</td>\n",
              "      <td>2017</td>\n",
              "      <td>Team5</td>\n",
              "      <td>0</td>\n",
              "      <td>3.57</td>\n",
              "      <td>-0.250000</td>\n",
              "      <td>207.0</td>\n",
              "      <td>2.54</td>\n",
              "      <td>-1.835714</td>\n",
              "      <td>172.0</td>\n",
              "      <td>1.660000</td>\n",
              "      <td>0.352143</td>\n",
              "      <td>0</td>\n",
              "      <td>0</td>\n",
              "    </tr>\n",
              "    <tr>\n",
              "      <th>2</th>\n",
              "      <td>2</td>\n",
              "      <td>Team2</td>\n",
              "      <td>Team4</td>\n",
              "      <td>2017</td>\n",
              "      <td>Team4</td>\n",
              "      <td>0</td>\n",
              "      <td>2.82</td>\n",
              "      <td>-1.471429</td>\n",
              "      <td>184.0</td>\n",
              "      <td>3.25</td>\n",
              "      <td>-0.692857</td>\n",
              "      <td>187.0</td>\n",
              "      <td>0.674286</td>\n",
              "      <td>1.278571</td>\n",
              "      <td>0</td>\n",
              "      <td>1</td>\n",
              "    </tr>\n",
              "    <tr>\n",
              "      <th>3</th>\n",
              "      <td>3</td>\n",
              "      <td>Team3</td>\n",
              "      <td>Team6</td>\n",
              "      <td>2017</td>\n",
              "      <td>Team6</td>\n",
              "      <td>0</td>\n",
              "      <td>3.09</td>\n",
              "      <td>-2.064286</td>\n",
              "      <td>183.0</td>\n",
              "      <td>3.13</td>\n",
              "      <td>-1.121429</td>\n",
              "      <td>184.0</td>\n",
              "      <td>0.512857</td>\n",
              "      <td>1.004286</td>\n",
              "      <td>0</td>\n",
              "      <td>1</td>\n",
              "    </tr>\n",
              "    <tr>\n",
              "      <th>4</th>\n",
              "      <td>4</td>\n",
              "      <td>Team4</td>\n",
              "      <td>Team8</td>\n",
              "      <td>2017</td>\n",
              "      <td>Team8</td>\n",
              "      <td>0</td>\n",
              "      <td>2.59</td>\n",
              "      <td>-0.764286</td>\n",
              "      <td>163.0</td>\n",
              "      <td>2.48</td>\n",
              "      <td>-0.835714</td>\n",
              "      <td>164.0</td>\n",
              "      <td>0.912857</td>\n",
              "      <td>0.822143</td>\n",
              "      <td>0</td>\n",
              "      <td>1</td>\n",
              "    </tr>\n",
              "    <tr>\n",
              "      <th>5</th>\n",
              "      <td>5</td>\n",
              "      <td>Team5</td>\n",
              "      <td>Team7</td>\n",
              "      <td>2017</td>\n",
              "      <td>Team5</td>\n",
              "      <td>0</td>\n",
              "      <td>2.24</td>\n",
              "      <td>0.228571</td>\n",
              "      <td>157.0</td>\n",
              "      <td>1.96</td>\n",
              "      <td>0.042857</td>\n",
              "      <td>142.0</td>\n",
              "      <td>1.234286</td>\n",
              "      <td>1.001429</td>\n",
              "      <td>0</td>\n",
              "      <td>0</td>\n",
              "    </tr>\n",
              "    <tr>\n",
              "      <th>...</th>\n",
              "      <td>...</td>\n",
              "      <td>...</td>\n",
              "      <td>...</td>\n",
              "      <td>...</td>\n",
              "      <td>...</td>\n",
              "      <td>...</td>\n",
              "      <td>...</td>\n",
              "      <td>...</td>\n",
              "      <td>...</td>\n",
              "      <td>...</td>\n",
              "      <td>...</td>\n",
              "      <td>...</td>\n",
              "      <td>...</td>\n",
              "      <td>...</td>\n",
              "      <td>...</td>\n",
              "      <td>...</td>\n",
              "    </tr>\n",
              "    <tr>\n",
              "      <th>496</th>\n",
              "      <td>496</td>\n",
              "      <td>Team1</td>\n",
              "      <td>Team8</td>\n",
              "      <td>2014</td>\n",
              "      <td>Team8</td>\n",
              "      <td>0</td>\n",
              "      <td>3.18</td>\n",
              "      <td>-1.657143</td>\n",
              "      <td>205.0</td>\n",
              "      <td>3.70</td>\n",
              "      <td>-1.314286</td>\n",
              "      <td>211.0</td>\n",
              "      <td>0.761429</td>\n",
              "      <td>1.192857</td>\n",
              "      <td>0</td>\n",
              "      <td>1</td>\n",
              "    </tr>\n",
              "    <tr>\n",
              "      <th>497</th>\n",
              "      <td>497</td>\n",
              "      <td>Team2</td>\n",
              "      <td>Team6</td>\n",
              "      <td>2014</td>\n",
              "      <td>Team6</td>\n",
              "      <td>0</td>\n",
              "      <td>1.98</td>\n",
              "      <td>-0.378571</td>\n",
              "      <td>141.0</td>\n",
              "      <td>2.18</td>\n",
              "      <td>0.071429</td>\n",
              "      <td>142.0</td>\n",
              "      <td>0.800714</td>\n",
              "      <td>1.125714</td>\n",
              "      <td>0</td>\n",
              "      <td>1</td>\n",
              "    </tr>\n",
              "    <tr>\n",
              "      <th>498</th>\n",
              "      <td>498</td>\n",
              "      <td>Team9</td>\n",
              "      <td>Team7</td>\n",
              "      <td>2014</td>\n",
              "      <td>Team7</td>\n",
              "      <td>0</td>\n",
              "      <td>3.21</td>\n",
              "      <td>0.085714</td>\n",
              "      <td>201.0</td>\n",
              "      <td>1.84</td>\n",
              "      <td>-1.371429</td>\n",
              "      <td>139.0</td>\n",
              "      <td>1.647857</td>\n",
              "      <td>0.234286</td>\n",
              "      <td>0</td>\n",
              "      <td>0</td>\n",
              "    </tr>\n",
              "    <tr>\n",
              "      <th>499</th>\n",
              "      <td>499</td>\n",
              "      <td>Team10</td>\n",
              "      <td>Team5</td>\n",
              "      <td>2014</td>\n",
              "      <td>Team10</td>\n",
              "      <td>0</td>\n",
              "      <td>2.06</td>\n",
              "      <td>0.171429</td>\n",
              "      <td>138.0</td>\n",
              "      <td>1.89</td>\n",
              "      <td>-0.214286</td>\n",
              "      <td>142.0</td>\n",
              "      <td>1.115714</td>\n",
              "      <td>0.837857</td>\n",
              "      <td>0</td>\n",
              "      <td>1</td>\n",
              "    </tr>\n",
              "    <tr>\n",
              "      <th>500</th>\n",
              "      <td>500</td>\n",
              "      <td>Team1</td>\n",
              "      <td>Team6</td>\n",
              "      <td>2014</td>\n",
              "      <td>Team1</td>\n",
              "      <td>0</td>\n",
              "      <td>1.82</td>\n",
              "      <td>-0.414286</td>\n",
              "      <td>142.0</td>\n",
              "      <td>2.40</td>\n",
              "      <td>0.271429</td>\n",
              "      <td>146.0</td>\n",
              "      <td>0.702857</td>\n",
              "      <td>1.335714</td>\n",
              "      <td>0</td>\n",
              "      <td>1</td>\n",
              "    </tr>\n",
              "  </tbody>\n",
              "</table>\n",
              "<p>499 rows × 16 columns</p>\n",
              "</div>\n",
              "      <button class=\"colab-df-convert\" onclick=\"convertToInteractive('df-57fd9160-2cad-4cb1-ba0c-05e7d7d2141c')\"\n",
              "              title=\"Convert this dataframe to an interactive table.\"\n",
              "              style=\"display:none;\">\n",
              "        \n",
              "  <svg xmlns=\"http://www.w3.org/2000/svg\" height=\"24px\"viewBox=\"0 0 24 24\"\n",
              "       width=\"24px\">\n",
              "    <path d=\"M0 0h24v24H0V0z\" fill=\"none\"/>\n",
              "    <path d=\"M18.56 5.44l.94 2.06.94-2.06 2.06-.94-2.06-.94-.94-2.06-.94 2.06-2.06.94zm-11 1L8.5 8.5l.94-2.06 2.06-.94-2.06-.94L8.5 2.5l-.94 2.06-2.06.94zm10 10l.94 2.06.94-2.06 2.06-.94-2.06-.94-.94-2.06-.94 2.06-2.06.94z\"/><path d=\"M17.41 7.96l-1.37-1.37c-.4-.4-.92-.59-1.43-.59-.52 0-1.04.2-1.43.59L10.3 9.45l-7.72 7.72c-.78.78-.78 2.05 0 2.83L4 21.41c.39.39.9.59 1.41.59.51 0 1.02-.2 1.41-.59l7.78-7.78 2.81-2.81c.8-.78.8-2.07 0-2.86zM5.41 20L4 18.59l7.72-7.72 1.47 1.35L5.41 20z\"/>\n",
              "  </svg>\n",
              "      </button>\n",
              "      \n",
              "  <style>\n",
              "    .colab-df-container {\n",
              "      display:flex;\n",
              "      flex-wrap:wrap;\n",
              "      gap: 12px;\n",
              "    }\n",
              "\n",
              "    .colab-df-convert {\n",
              "      background-color: #E8F0FE;\n",
              "      border: none;\n",
              "      border-radius: 50%;\n",
              "      cursor: pointer;\n",
              "      display: none;\n",
              "      fill: #1967D2;\n",
              "      height: 32px;\n",
              "      padding: 0 0 0 0;\n",
              "      width: 32px;\n",
              "    }\n",
              "\n",
              "    .colab-df-convert:hover {\n",
              "      background-color: #E2EBFA;\n",
              "      box-shadow: 0px 1px 2px rgba(60, 64, 67, 0.3), 0px 1px 3px 1px rgba(60, 64, 67, 0.15);\n",
              "      fill: #174EA6;\n",
              "    }\n",
              "\n",
              "    [theme=dark] .colab-df-convert {\n",
              "      background-color: #3B4455;\n",
              "      fill: #D2E3FC;\n",
              "    }\n",
              "\n",
              "    [theme=dark] .colab-df-convert:hover {\n",
              "      background-color: #434B5C;\n",
              "      box-shadow: 0px 1px 3px 1px rgba(0, 0, 0, 0.15);\n",
              "      filter: drop-shadow(0px 1px 2px rgba(0, 0, 0, 0.3));\n",
              "      fill: #FFFFFF;\n",
              "    }\n",
              "  </style>\n",
              "\n",
              "      <script>\n",
              "        const buttonEl =\n",
              "          document.querySelector('#df-57fd9160-2cad-4cb1-ba0c-05e7d7d2141c button.colab-df-convert');\n",
              "        buttonEl.style.display =\n",
              "          google.colab.kernel.accessAllowed ? 'block' : 'none';\n",
              "\n",
              "        async function convertToInteractive(key) {\n",
              "          const element = document.querySelector('#df-57fd9160-2cad-4cb1-ba0c-05e7d7d2141c');\n",
              "          const dataTable =\n",
              "            await google.colab.kernel.invokeFunction('convertToInteractive',\n",
              "                                                     [key], {});\n",
              "          if (!dataTable) return;\n",
              "\n",
              "          const docLinkHtml = 'Like what you see? Visit the ' +\n",
              "            '<a target=\"_blank\" href=https://colab.research.google.com/notebooks/data_table.ipynb>data table notebook</a>'\n",
              "            + ' to learn more about interactive tables.';\n",
              "          element.innerHTML = '';\n",
              "          dataTable['output_type'] = 'display_data';\n",
              "          await google.colab.output.renderOutput(dataTable, element);\n",
              "          const docLink = document.createElement('div');\n",
              "          docLink.innerHTML = docLinkHtml;\n",
              "          element.appendChild(docLink);\n",
              "        }\n",
              "      </script>\n",
              "    </div>\n",
              "  </div>\n",
              "  "
            ]
          },
          "metadata": {},
          "execution_count": 25
        }
      ],
      "source": [
        "train"
      ]
    },
    {
      "cell_type": "code",
      "execution_count": null,
      "metadata": {
        "_cell_guid": "caa129ac-8cf8-4cc0-a54e-07f8d1398c18",
        "_uuid": "766417d3915542537ba4de3096d0988b99f8460e",
        "id": "_7IuJVnPNWQX"
      },
      "outputs": [],
      "source": [
        "train_feature=[\"season\", \"dl_applied\",\n",
        "               \"Team_A_Batting_Average\", \"Team_A_Bowling_Average\",\n",
        "               \"Team_A_Total_Runs\",\n",
        "                \"Team_B_Batting_Average\", \"Team_B_Bowling_Average\",\n",
        "               \"Team_B_Total_Runs\",\n",
        "                \"Team_A_overall\",\"Team_B_overall\",\"super_over\"]\n",
        "\n",
        "\n",
        "\n",
        "\n",
        "\n",
        "X_train, X_test, y_train, y_test = train_test_split(train[train_feature],train[\"winner\"], test_size = 0.2, random_state = 10)\n",
        "#one_hot_encoded_training_predictors=one_hot_encoded_training_predictors.drop('toss_winner_Team11',1)\n"
      ]
    },
    {
      "cell_type": "markdown",
      "metadata": {
        "_cell_guid": "537a0884-859b-45a4-aea5-3c93509dd1bd",
        "_uuid": "c0ed68161bccb96be39c8ba02b4b516c80358da2",
        "id": "VdhtPyqlNWQX"
      },
      "source": [
        "** USING NAIVE_BAYES ALGORITHM **"
      ]
    },
    {
      "cell_type": "code",
      "execution_count": null,
      "metadata": {
        "_cell_guid": "480bbbd5-7b0c-442e-947a-0dd878dddeb8",
        "_uuid": "72af63e90ed8e0727883efb615c6fc3c924e52e9",
        "colab": {
          "base_uri": "https://localhost:8080/",
          "height": 298
        },
        "id": "8DoSvKosNWQX",
        "outputId": "f221773b-6e77-4b6f-d5d3-1d0e666bc07d"
      },
      "outputs": [
        {
          "output_type": "stream",
          "name": "stdout",
          "text": [
            "The accuracy using NB is: 86.0\n"
          ]
        },
        {
          "output_type": "display_data",
          "data": {
            "text/plain": [
              "<Figure size 432x288 with 2 Axes>"
            ],
            "image/png": "[encoded data removed]"
          },
          "metadata": {
            "needs_background": "light"
          }
        }
      ],
      "source": [
        "#Create a Gaussian Classifier\n",
        "NB_model = GaussianNB()\n",
        "\n",
        "# Train the model using the training sets \n",
        "NB_model.fit(X_train,y_train)\n",
        "\n",
        "#Predict Output \n",
        "predicted= NB_model.predict(X_test)\n",
        "nb_accuracy = accuracy_score(y_test,predicted)\n",
        "print('The accuracy using NB is:',format(nb_accuracy*100))\n",
        "\n",
        "conf_mat = confusion_matrix(y_test, predicted)\n",
        "conf_mat_normalized = conf_mat.astype('float') / conf_mat.sum(axis=1)[:, np.newaxis]\n",
        "sns.heatmap(conf_mat_normalized)\n",
        "#sns.heatmap(conf_mat)\n",
        "plt.ylabel('True label')\n",
        "plt.xlabel('Predicted label')\n",
        "plt.show()"
      ]
    },
    {
      "cell_type": "markdown",
      "metadata": {
        "_cell_guid": "653d1631-7048-459d-9898-b2415fbd2145",
        "_uuid": "72b25856752686a71cd7e8f1b738676f2de23fe6",
        "id": "cauNB-GQNWQX"
      },
      "source": [
        "** DECISION TREE REGRESSOR **"
      ]
    },
    {
      "cell_type": "code",
      "execution_count": null,
      "metadata": {
        "_cell_guid": "9933837a-0c0c-4c71-8157-3cda63a5f71b",
        "_uuid": "330b34e0ad82806c7fb13f7c4e222c5b29370115",
        "colab": {
          "base_uri": "https://localhost:8080/",
          "height": 297
        },
        "id": "cHB3qZalNWQY",
        "outputId": "d2713e1e-0846-4912-bae7-964092f8aa5f"
      },
      "outputs": [
        {
          "output_type": "stream",
          "name": "stdout",
          "text": [
            "The accuracy using DecisionTreeRegressor is: 90.0\n"
          ]
        },
        {
          "output_type": "display_data",
          "data": {
            "text/plain": [
              "<Figure size 432x288 with 2 Axes>"
            ],
            "image/png": "[encoded data removed]"
          },
          "metadata": {
            "needs_background": "light"
          }
        }
      ],
      "source": [
        "# Define model\n",
        "DT_model = DecisionTreeRegressor()\n",
        "\n",
        "# Fit model\n",
        "DT_model.fit(X_train, y_train)\n",
        "\n",
        "#Predict Output \n",
        "predicted= DT_model.predict(X_test)\n",
        "dt_accuracy = accuracy_score(y_test,predicted)\n",
        "print('The accuracy using DecisionTreeRegressor is:',format(dt_accuracy*100))\n",
        "\n",
        "conf_mat = confusion_matrix(y_test, predicted)\n",
        "conf_mat_normalized = conf_mat.astype('float') / conf_mat.sum(axis=1)[:, np.newaxis]\n",
        "sns.heatmap(conf_mat_normalized)\n",
        "plt.ylabel('True label')\n",
        "plt.xlabel('Predicted label')\n",
        "plt.show()"
      ]
    },
    {
      "cell_type": "markdown",
      "metadata": {
        "_cell_guid": "b8c52649-6022-42e8-a49d-f6bfe6f56805",
        "_uuid": "b1132bb3837dd289f78e45b848bba05af439f1c9",
        "id": "a9AaoUiVNWQY"
      },
      "source": [
        "** SUPPORT VECTOR MACHINE **"
      ]
    },
    {
      "cell_type": "code",
      "execution_count": null,
      "metadata": {
        "_cell_guid": "a759d811-e3d4-4ed9-9b43-c80121924d80",
        "_uuid": "48b3716d9ea4b016500631e5206df2e1cfb0eb59",
        "colab": {
          "base_uri": "https://localhost:8080/",
          "height": 300
        },
        "id": "2eigr5CZNWQY",
        "outputId": "801f7e8f-60f0-4dea-cb4f-69b4a1afb8fb"
      },
      "outputs": [
        {
          "output_type": "stream",
          "name": "stdout",
          "text": [
            "The accuracy using SVC Classifier is: 56.99999999999999\n"
          ]
        },
        {
          "output_type": "display_data",
          "data": {
            "text/plain": [
              "<Figure size 432x288 with 2 Axes>"
            ],
            "image/png": "[encoded data removed]"
          },
          "metadata": {
            "needs_background": "light"
          }
        }
      ],
      "source": [
        "# Define model\n",
        "SVC_model = svm.SVC()\n",
        "\n",
        "# Fit model\n",
        "SVC_model.fit(X_train, y_train)\n",
        "\n",
        "#Predict Output \n",
        "predicted= SVC_model.predict(X_test)\n",
        "svc_accuracy = accuracy_score(y_test,predicted)\n",
        "print('The accuracy using SVC Classifier is:',format(svc_accuracy*100))\n",
        "\n",
        "conf_mat = confusion_matrix(y_test, predicted)\n",
        "conf_mat_normalized = conf_mat.astype('float') / conf_mat.sum(axis=1)[:, np.newaxis]\n",
        "sns.heatmap(conf_mat_normalized)\n",
        "plt.ylabel('True label')\n",
        "plt.xlabel('Predicted label')\n",
        "plt.show()"
      ]
    },
    {
      "cell_type": "markdown",
      "metadata": {
        "_cell_guid": "9f9910b7-f91c-4248-b497-8595c3be35f7",
        "_uuid": "ce8e9096bd1a55b1b1471b338fb0a52e32af6541",
        "id": "Qdg00cnFNWQY"
      },
      "source": [
        "** RANDOM FOREST ALGORITHM **"
      ]
    },
    {
      "cell_type": "code",
      "execution_count": null,
      "metadata": {
        "_cell_guid": "2d81d2d1-f5e0-42a8-abeb-a8a178217903",
        "_uuid": "d04ac13058d3f2192bf7496935c1cb13b36b242a",
        "colab": {
          "base_uri": "https://localhost:8080/",
          "height": 296
        },
        "id": "V74-r3goNWQZ",
        "outputId": "d5098f1d-ea46-4975-abf0-93c37425d51c"
      },
      "outputs": [
        {
          "output_type": "stream",
          "name": "stdout",
          "text": [
            "The accuracy using RandomForest Classifier is: 87.0\n"
          ]
        },
        {
          "output_type": "display_data",
          "data": {
            "text/plain": [
              "<Figure size 432x288 with 2 Axes>"
            ],
            "image/png": "[encoded data removed]"
          },
          "metadata": {
            "needs_background": "light"
          }
        }
      ],
      "source": [
        "# Define model\n",
        "RF_model = RandomForestClassifier(max_depth=2, random_state=0)\n",
        "\n",
        "# Fit model\n",
        "RF_model.fit(X_train, y_train)\n",
        "\n",
        "#Predict Output \n",
        "predicted= RF_model.predict(X_test)\n",
        "RF_accuracy = accuracy_score(y_test,predicted)\n",
        "print('The accuracy using RandomForest Classifier is:',format(RF_accuracy*100))\n",
        "\n",
        "conf_mat = confusion_matrix(y_test, predicted)\n",
        "conf_mat_normalized = conf_mat.astype('float') / conf_mat.sum(axis=1)[:, np.newaxis]\n",
        "sns.heatmap(conf_mat_normalized)\n",
        "plt.ylabel('True label')\n",
        "plt.xlabel('Predicted label')\n",
        "plt.show()"
      ]
    },
    {
      "cell_type": "markdown",
      "metadata": {
        "id": "OVluz6J0NWQZ"
      },
      "source": [
        "*** ENSEMBLE MODEL (Voting Classifer) *** using NaiveBayes, RandomForest and SVC"
      ]
    },
    {
      "cell_type": "code",
      "execution_count": null,
      "metadata": {
        "colab": {
          "base_uri": "https://localhost:8080/",
          "height": 296
        },
        "id": "0VxtD_0kNWQZ",
        "outputId": "8b211074-06f7-44f9-ac21-f6b6373e887e"
      },
      "outputs": [
        {
          "output_type": "stream",
          "name": "stdout",
          "text": [
            "The accuracy using Ensemble method (Voting) is: 87.0\n"
          ]
        },
        {
          "output_type": "display_data",
          "data": {
            "text/plain": [
              "<Figure size 432x288 with 2 Axes>"
            ],
            "image/png": "[encoded data removed]"
          },
          "metadata": {
            "needs_background": "light"
          }
        }
      ],
      "source": [
        "# importing voting classifier\n",
        "from sklearn.ensemble import VotingClassifier\n",
        "\n",
        "final_model = VotingClassifier(\n",
        "    estimators=[('nb', NB_model),('svc',SVC_model),('rf',RF_model)], voting='hard')\n",
        " \n",
        "# training all the model on the train dataset\n",
        "final_model.fit(X_train, y_train)\n",
        " \n",
        "#Predict Output \n",
        "predicted= final_model.predict(X_test)\n",
        "Voting_accuracy = accuracy_score(y_test,predicted)\n",
        "print('The accuracy using Ensemble method (Voting) is:',format(Voting_accuracy*100))\n",
        "\n",
        "conf_mat = confusion_matrix(y_test, predicted)\n",
        "conf_mat_normalized = conf_mat.astype('float') / conf_mat.sum(axis=1)[:, np.newaxis]\n",
        "sns.heatmap(conf_mat_normalized)\n",
        "plt.ylabel('True label')\n",
        "plt.xlabel('Predicted label')\n",
        "plt.show()"
      ]
    },
    {
      "cell_type": "markdown",
      "metadata": {
        "id": "-en6IslyNWQa"
      },
      "source": [
        "*** ENSEMBLE MODEL (Stacking) *** using NaiveBayes,RandomForestClassifier, LogisticRegression and SVC"
      ]
    },
    {
      "cell_type": "code",
      "execution_count": null,
      "metadata": {
        "id": "DsHj0qZWNWQa"
      },
      "outputs": [],
      "source": [
        "from sklearn.linear_model import LogisticRegression\n",
        "from sklearn.ensemble import StackingClassifier\n",
        "\n",
        "def get_stacking():\n",
        "    level0 = list()\n",
        "    level0.append(('lr', LogisticRegression(solver='liblinear')))\n",
        "    level0.append(('cart', RF_model))\n",
        "    level0.append(('svm', SVC_model))\n",
        "    level0.append(('bayes', NB_model))\n",
        "    # define meta learner model\n",
        "    level1 = LogisticRegression(solver='liblinear')\n",
        "    # define the stacking ensemble\n",
        "    stacking_model = StackingClassifier(estimators=level0, final_estimator=level1, cv=5)\n",
        "    return stacking_model"
      ]
    },
    {
      "cell_type": "code",
      "execution_count": null,
      "metadata": {
        "colab": {
          "base_uri": "https://localhost:8080/",
          "height": 298
        },
        "id": "CcLbbBfWNWQa",
        "outputId": "d369e5ae-16b8-4c7a-e618-907be5e24b7b"
      },
      "outputs": [
        {
          "output_type": "stream",
          "name": "stdout",
          "text": [
            "The accuracy using Ensemble method (Stacking) is: 90.0\n"
          ]
        },
        {
          "output_type": "display_data",
          "data": {
            "text/plain": [
              "<Figure size 432x288 with 2 Axes>"
            ],
            "image/png": "[encoded data removed]"
          },
          "metadata": {
            "needs_background": "light"
          }
        }
      ],
      "source": [
        "# training the ensemble model (Stacking) on the train dataset\n",
        "stacking_model = get_stacking()\n",
        "stacking_model.fit(X_train, y_train)\n",
        " \n",
        "#Predict Output \n",
        "predicted= stacking_model.predict(X_test)\n",
        "stacking_accuracy = accuracy_score(y_test,predicted)\n",
        "print('The accuracy using Ensemble method (Stacking) is:',format(stacking_accuracy*100))\n",
        "\n",
        "conf_mat = confusion_matrix(y_test, predicted)\n",
        "conf_mat_normalized = conf_mat.astype('float') / conf_mat.sum(axis=1)[:, np.newaxis]\n",
        "sns.heatmap(conf_mat_normalized)\n",
        "plt.ylabel('True label')\n",
        "plt.xlabel('Predicted label')\n",
        "plt.show()"
      ]
    },
    {
      "cell_type": "markdown",
      "metadata": {
        "id": "E8zPWZfaNWQa"
      },
      "source": [
        "*** ENSEMBLE MODEL (Bagging) *** using Pipeline based on LogisticRegression"
      ]
    },
    {
      "cell_type": "code",
      "execution_count": null,
      "metadata": {
        "id": "bl7KA3y0NWQb"
      },
      "outputs": [],
      "source": [
        "#\n",
        "# Pipeline Estimator\n",
        "#\n",
        "from sklearn.pipeline import make_pipeline\n",
        "from sklearn.ensemble import BaggingClassifier\n",
        "from sklearn.preprocessing import StandardScaler\n",
        "\n",
        "pipeline = make_pipeline(StandardScaler(),\n",
        "                        LogisticRegression(random_state=1))\n"
      ]
    },
    {
      "cell_type": "code",
      "execution_count": null,
      "metadata": {
        "colab": {
          "base_uri": "https://localhost:8080/",
          "height": 296
        },
        "id": "z-zHEPlLNWQb",
        "outputId": "b7559c89-7051-424d-8dee-cba82ff765cc"
      },
      "outputs": [
        {
          "output_type": "stream",
          "name": "stdout",
          "text": [
            "The accuracy using Ensemble method (Bagging) is: 87.0\n"
          ]
        },
        {
          "output_type": "display_data",
          "data": {
            "text/plain": [
              "<Figure size 432x288 with 2 Axes>"
            ],
            "image/png": "[encoded data removed]"
          },
          "metadata": {
            "needs_background": "light"
          }
        }
      ],
      "source": [
        "#\n",
        "# Instantiate the bagging classifier\n",
        "#\n",
        "bgclassifier = BaggingClassifier(base_estimator=pipeline, n_estimators=100,\n",
        "                                 max_features=10,\n",
        "                                 max_samples=100,\n",
        "                                 random_state=1, n_jobs=5)\n",
        "#\n",
        "# Fit the bagging classifier\n",
        "#\n",
        "bgclassifier.fit(X_train, y_train)\n",
        "\n",
        "#Predict Output \n",
        "predicted= bgclassifier.predict(X_test)\n",
        "bg_accuracy = accuracy_score(y_test,predicted)\n",
        "print('The accuracy using Ensemble method (Bagging) is:',format(bg_accuracy*100))\n",
        "\n",
        "conf_mat = confusion_matrix(y_test, predicted)\n",
        "conf_mat_normalized = conf_mat.astype('float') / conf_mat.sum(axis=1)[:, np.newaxis]\n",
        "sns.heatmap(conf_mat_normalized)\n",
        "plt.ylabel('True label')\n",
        "plt.xlabel('Predicted label')\n",
        "plt.show()"
      ]
    },
    {
      "cell_type": "markdown",
      "metadata": {
        "id": "Wgy2oYpdNWQb"
      },
      "source": [
        "** 7 models ** have been tried for prediction. The accuracy scores from each of the models is detailed below"
      ]
    },
    {
      "cell_type": "code",
      "execution_count": null,
      "metadata": {
        "colab": {
          "base_uri": "https://localhost:8080/"
        },
        "id": "6mgAaQcANWQb",
        "outputId": "b3e7cc38-06d3-4653-9c97-5ab9eaaad84f"
      },
      "outputs": [
        {
          "output_type": "stream",
          "name": "stdout",
          "text": [
            "Accuracy details of basic ML methods \n",
            "*************\n",
            "The accuracy using Naive Bayes is: 86.0\n",
            "The accuracy using Decision Tree is: 90.0\n",
            "The accuracy using SVM is: 57.0\n",
            "The accuracy using RF is: 87.0\n",
            "Accuracy details of Ensemble ML methods \n",
            "*************\n",
            "The accuracy using Ensemble(Voting) is: 87.0\n",
            "The accuracy using Ensemble(Stacking) is: 90.0\n",
            "The accuracy using Ensemble(Bagging) is: 87.0\n"
          ]
        }
      ],
      "source": [
        "# Accuracy of various modles\n",
        "print(\"Accuracy details of basic ML methods \")\n",
        "print(\"*************\")\n",
        "print('The accuracy using Naive Bayes is:',format(nb_accuracy*100))\n",
        "print('The accuracy using Decision Tree is:',format(dt_accuracy*100))\n",
        "print('The accuracy using SVM is: %.1f' % (svc_accuracy*100))\n",
        "print('The accuracy using RF is:',format(RF_accuracy*100))\n",
        "print(\"Accuracy details of Ensemble ML methods \")\n",
        "print(\"*************\")\n",
        "print('The accuracy using Ensemble(Voting) is:',format(Voting_accuracy*100))\n",
        "print('The accuracy using Ensemble(Stacking) is:',format(stacking_accuracy*100))\n",
        "print('The accuracy using Ensemble(Bagging) is:',format(bg_accuracy*100))"
      ]
    },
    {
      "cell_type": "code",
      "execution_count": null,
      "metadata": {
        "_cell_guid": "c106c4fc-8341-418d-9bdc-8584345df319",
        "_uuid": "272b9a33060071a5e740b229aa9094e295a043bb",
        "collapsed": true,
        "id": "D-iOL13eNWQc",
        "colab": {
          "base_uri": "https://localhost:8080/",
          "height": 269
        },
        "outputId": "7bc3ae11-6f77-4e90-8606-2e0b5fb78aad"
      },
      "outputs": [
        {
          "output_type": "execute_result",
          "data": {
            "text/plain": [
              "      Algorithms  Accuracy\n",
              "0    Naive Bayes        86\n",
              "1  Decision Tree        90\n",
              "2            SVM        57\n",
              "3  Random Forest        87\n",
              "4         Voting        87\n",
              "5       Stacking        90\n",
              "6        Bagging        87"
            ],
            "text/html": [
              "\n",
              "  <div id=\"df-fc704e3e-6596-414c-a01e-37a036119614\">\n",
              "    <div class=\"colab-df-container\">\n",
              "      <div>\n",
              "<style scoped>\n",
              "    .dataframe tbody tr th:only-of-type {\n",
              "        vertical-align: middle;\n",
              "    }\n",
              "\n",
              "    .dataframe tbody tr th {\n",
              "        vertical-align: top;\n",
              "    }\n",
              "\n",
              "    .dataframe thead th {\n",
              "        text-align: right;\n",
              "    }\n",
              "</style>\n",
              "<table border=\"1\" class=\"dataframe\">\n",
              "  <thead>\n",
              "    <tr style=\"text-align: right;\">\n",
              "      <th></th>\n",
              "      <th>Algorithms</th>\n",
              "      <th>Accuracy</th>\n",
              "    </tr>\n",
              "  </thead>\n",
              "  <tbody>\n",
              "    <tr>\n",
              "      <th>0</th>\n",
              "      <td>Naive Bayes</td>\n",
              "      <td>86</td>\n",
              "    </tr>\n",
              "    <tr>\n",
              "      <th>1</th>\n",
              "      <td>Decision Tree</td>\n",
              "      <td>90</td>\n",
              "    </tr>\n",
              "    <tr>\n",
              "      <th>2</th>\n",
              "      <td>SVM</td>\n",
              "      <td>57</td>\n",
              "    </tr>\n",
              "    <tr>\n",
              "      <th>3</th>\n",
              "      <td>Random Forest</td>\n",
              "      <td>87</td>\n",
              "    </tr>\n",
              "    <tr>\n",
              "      <th>4</th>\n",
              "      <td>Voting</td>\n",
              "      <td>87</td>\n",
              "    </tr>\n",
              "    <tr>\n",
              "      <th>5</th>\n",
              "      <td>Stacking</td>\n",
              "      <td>90</td>\n",
              "    </tr>\n",
              "    <tr>\n",
              "      <th>6</th>\n",
              "      <td>Bagging</td>\n",
              "      <td>87</td>\n",
              "    </tr>\n",
              "  </tbody>\n",
              "</table>\n",
              "</div>\n",
              "      <button class=\"colab-df-convert\" onclick=\"convertToInteractive('df-fc704e3e-6596-414c-a01e-37a036119614')\"\n",
              "              title=\"Convert this dataframe to an interactive table.\"\n",
              "              style=\"display:none;\">\n",
              "        \n",
              "  <svg xmlns=\"http://www.w3.org/2000/svg\" height=\"24px\"viewBox=\"0 0 24 24\"\n",
              "       width=\"24px\">\n",
              "    <path d=\"M0 0h24v24H0V0z\" fill=\"none\"/>\n",
              "    <path d=\"M18.56 5.44l.94 2.06.94-2.06 2.06-.94-2.06-.94-.94-2.06-.94 2.06-2.06.94zm-11 1L8.5 8.5l.94-2.06 2.06-.94-2.06-.94L8.5 2.5l-.94 2.06-2.06.94zm10 10l.94 2.06.94-2.06 2.06-.94-2.06-.94-.94-2.06-.94 2.06-2.06.94z\"/><path d=\"M17.41 7.96l-1.37-1.37c-.4-.4-.92-.59-1.43-.59-.52 0-1.04.2-1.43.59L10.3 9.45l-7.72 7.72c-.78.78-.78 2.05 0 2.83L4 21.41c.39.39.9.59 1.41.59.51 0 1.02-.2 1.41-.59l7.78-7.78 2.81-2.81c.8-.78.8-2.07 0-2.86zM5.41 20L4 18.59l7.72-7.72 1.47 1.35L5.41 20z\"/>\n",
              "  </svg>\n",
              "      </button>\n",
              "      \n",
              "  <style>\n",
              "    .colab-df-container {\n",
              "      display:flex;\n",
              "      flex-wrap:wrap;\n",
              "      gap: 12px;\n",
              "    }\n",
              "\n",
              "    .colab-df-convert {\n",
              "      background-color: #E8F0FE;\n",
              "      border: none;\n",
              "      border-radius: 50%;\n",
              "      cursor: pointer;\n",
              "      display: none;\n",
              "      fill: #1967D2;\n",
              "      height: 32px;\n",
              "      padding: 0 0 0 0;\n",
              "      width: 32px;\n",
              "    }\n",
              "\n",
              "    .colab-df-convert:hover {\n",
              "      background-color: #E2EBFA;\n",
              "      box-shadow: 0px 1px 2px rgba(60, 64, 67, 0.3), 0px 1px 3px 1px rgba(60, 64, 67, 0.15);\n",
              "      fill: #174EA6;\n",
              "    }\n",
              "\n",
              "    [theme=dark] .colab-df-convert {\n",
              "      background-color: #3B4455;\n",
              "      fill: #D2E3FC;\n",
              "    }\n",
              "\n",
              "    [theme=dark] .colab-df-convert:hover {\n",
              "      background-color: #434B5C;\n",
              "      box-shadow: 0px 1px 3px 1px rgba(0, 0, 0, 0.15);\n",
              "      filter: drop-shadow(0px 1px 2px rgba(0, 0, 0, 0.3));\n",
              "      fill: #FFFFFF;\n",
              "    }\n",
              "  </style>\n",
              "\n",
              "      <script>\n",
              "        const buttonEl =\n",
              "          document.querySelector('#df-fc704e3e-6596-414c-a01e-37a036119614 button.colab-df-convert');\n",
              "        buttonEl.style.display =\n",
              "          google.colab.kernel.accessAllowed ? 'block' : 'none';\n",
              "\n",
              "        async function convertToInteractive(key) {\n",
              "          const element = document.querySelector('#df-fc704e3e-6596-414c-a01e-37a036119614');\n",
              "          const dataTable =\n",
              "            await google.colab.kernel.invokeFunction('convertToInteractive',\n",
              "                                                     [key], {});\n",
              "          if (!dataTable) return;\n",
              "\n",
              "          const docLinkHtml = 'Like what you see? Visit the ' +\n",
              "            '<a target=\"_blank\" href=https://colab.research.google.com/notebooks/data_table.ipynb>data table notebook</a>'\n",
              "            + ' to learn more about interactive tables.';\n",
              "          element.innerHTML = '';\n",
              "          dataTable['output_type'] = 'display_data';\n",
              "          await google.colab.output.renderOutput(dataTable, element);\n",
              "          const docLink = document.createElement('div');\n",
              "          docLink.innerHTML = docLinkHtml;\n",
              "          element.appendChild(docLink);\n",
              "        }\n",
              "      </script>\n",
              "    </div>\n",
              "  </div>\n",
              "  "
            ]
          },
          "metadata": {},
          "execution_count": 37
        }
      ],
      "source": [
        "d={'Algorithms':['Naive Bayes','Decision Tree','SVM','Random Forest','Voting','Stacking','Bagging'],'Accuracy':[86,90,57,87,87,90,87]}\n",
        "df=pd.DataFrame(data=d)\n",
        "df"
      ]
    },
    {
      "cell_type": "code",
      "source": [
        "df.plot.bar(x='Algorithms',y='Accuracy',title=\"Accuracy of Different Classifiers\");\n",
        "plt.show(block=True);"
      ],
      "metadata": {
        "colab": {
          "base_uri": "https://localhost:8080/",
          "height": 360
        },
        "id": "4E_6E0J_zCIg",
        "outputId": "5632d60c-c9c4-4a34-f738-76ea9d19151c"
      },
      "execution_count": null,
      "outputs": [
        {
          "output_type": "display_data",
          "data": {
            "text/plain": [
              "<Figure size 432x288 with 1 Axes>"
            ],
            "image/png": "[encoded data removed]"
          },
          "metadata": {
            "needs_background": "light"
          }
        }
      ]
    },
    {
      "cell_type": "code",
      "source": [],
      "metadata": {
        "id": "aW0EhOYfzsir"
      },
      "execution_count": null,
      "outputs": []
    }
  ],
  "metadata": {
    "kernelspec": {
      "display_name": "Python 3",
      "language": "python",
      "name": "python3"
    },
    "language_info": {
      "codemirror_mode": {
        "name": "ipython",
        "version": 3
      },
      "file_extension": ".py",
      "mimetype": "text/x-python",
      "name": "python",
      "nbconvert_exporter": "python",
      "pygments_lexer": "ipython3",
      "version": "3.7.7"
    },
    "colab": {
      "provenance": []
    }
  },
  "nbformat": 4,
  "nbformat_minor": 0
}